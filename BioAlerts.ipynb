{
 "metadata": {
  "name": ""
 },
 "nbformat": 3,
 "nbformat_minor": 0,
 "worksheets": [
  {
   "cells": [
    {
     "cell_type": "code",
     "collapsed": false,
     "input": [
      "import numpy\n",
      "import os\n",
      "import sys\n",
      "import rdkit\n",
      "from rdkit import Chem\n",
      "from rdkit.Chem import rdMolDescriptors\n",
      "import rdkit.rdBase\n",
      "from rdkit.Chem.MACCSkeys import GenMACCSKeys\n",
      "from rdkit.Chem import AllChem\n",
      "from rdkit import DataStructs\n",
      "from rdkit.DataStructs import BitVectToText\n",
      "import scipy as sc\n",
      "import pandas as pd\n",
      "from rdkit.Chem import PandasTools\n",
      "from rdkit.Chem import Draw\n",
      "from rdkit.Chem.Draw import IPythonConsole\n",
      "from sc import stats"
     ],
     "language": "python",
     "metadata": {},
     "outputs": [
      {
       "output_type": "stream",
       "stream": "stdout",
       "text": [
        "height has been deprecated.\n",
        "\n"
       ]
      }
     ],
     "prompt_number": 1
    },
    {
     "cell_type": "heading",
     "level": 1,
     "metadata": {},
     "source": [
      "Class to read the data"
     ]
    },
    {
     "cell_type": "code",
     "collapsed": false,
     "input": [
      "def RetrieveMol2Block(fileLikeObject, delimiter=\"@<TRIPOS>MOLECULE\"):\n",
      "    import rdkit.Chem\n",
      "    \"\"\"generator which retrieves one mol2 block at a time\n",
      "    \"\"\"\n",
      "    mol2 = []\n",
      "    for line in fileLikeObject:\n",
      "        if line.startswith(delimiter) and mol2:\n",
      "            yield \"\".join(mol2)\n",
      "            mol2 = []\n",
      "        mol2.append(line)\n",
      "    if mol2:\n",
      "        yield \"\".join(mol2)\n"
     ],
     "language": "python",
     "metadata": {},
     "outputs": [],
     "prompt_number": 2
    },
    {
     "cell_type": "code",
     "collapsed": false,
     "input": [
      "class load_molecules:    \n",
      "    def __init__(self,input_file,verbose=True,delimiter=\"\\t\",name_field=\"_Name\"):\n",
      "        self.input_file = input_file\n",
      "        self.verbose = True\n",
      "        self.delimiter = delimiter\n",
      "        file_name, file_extension = os.path.splitext(input_file)\n",
      "        self.file_name = file_name\n",
      "        self.file_extension = file_extension\n",
      "        if(file_extension not in ['.smi','.smiles','.sdf','.mol2']): \n",
      "            raise ValueError(\"Incorrect file extension\")\n",
      "        self.mols = []\n",
      "        self.molserr = []\n",
      "        self.nb_mols = None\n",
      "        self.mols_ids = []\n",
      "        self.name_field = name_field\n",
      "        \n",
      "    def read_molecules(self,titleLine=False,smilesColumn=0,nameColumn=1): #titleLine for smiles\n",
      "\n",
      "        if self.file_extension in ['.smi','.smiles']:\n",
      "            if self.verbose:\n",
      "                print \"Format of the structures file = SMILES\"\n",
      "            suppl = Chem.SmilesMolSupplier(self.input_file,smilesColumn=smilesColumn,\n",
      "                                           nameColumn=nameColumn,\n",
      "                                           delimiter=self.delimiter,titleLine=titleLine)\n",
      "\n",
      "            for i,m in enumerate(suppl):\n",
      "                if m is not None:\n",
      "                    self.mols.append(m)\n",
      "                    mol_id = i if self.name_field == None else m.GetProp(self.name_field)\n",
      "                    self.mols_ids.append(mol_id)\n",
      "                else:\n",
      "                    self.molserr.append(i)\n",
      "            nb_mols=len(self.mols)\n",
      "        elif self.file_extension == '.mol2':\n",
      "            print \"Format of the structures file = Mol2\"\n",
      "            molss=[]\n",
      "            with open(self.input_file) as fi:\n",
      "                for mol2 in RetrieveMol2Block(fi):\n",
      "                    rdkMolecule = rdkit.Chem.MolFromMol2Block(mol2)\n",
      "                    molss.append(rdkMolecule)\n",
      "            for i,m in enumerate(molss):\n",
      "                if m is not None:\n",
      "                    self.mols.append(m)\n",
      "                    mol_id = i if self.name_field == None else m.GetProp(self.name_field)\n",
      "                    self.mols_ids.append(mol_id)\n",
      "                else:\n",
      "                    self.molserr.append(i)\n",
      "                    self.mols.append(m)\n",
      "            self.nb_mols=len(self.mols)\n",
      "        else:\n",
      "            if self.verbose:\n",
      "                print \"Format of the structures file = SDF\"\n",
      "            suppl = Chem.SDMolSupplier(self.input_file)\n",
      "            for i,m in enumerate(suppl):\n",
      "                if m is not None:\n",
      "                    self.mols.append(m)\n",
      "                    mol_id = i if self.name_field == None else m.GetProp(self.name_field)\n",
      "                    self.mols_ids.append(mol_id)\n",
      "                else:\n",
      "                    self.molserr.append(i)\n",
      "            self.nbMols=len(self.mols)\n",
      "        \n",
      "        if self.verbose:\n",
      "            if len(self.molserr) !=0:\n",
      "                print \"The following %d molecules (starting at zero) could not be processed:\\n\"%(len(self.molserr))\n",
      "                #for x in self.molserr: print x\n",
      "                print \"NOTE: the indexes of the molecules start at zero. Thus the first molecule is molecule 0.\"\n",
      "                err_file=\"incorrect_molecules_.csv\"\n",
      "                print \"This information has been saved in the following file: %s\\n\"%(err_file)\n",
      "                # Save the information about which molecules could not be processed correctly.\n",
      "                np.savetxt(err_file,self.molserr,fmt=\"%d\")\n",
      "            else:\n",
      "                print \"All molecules in the input file were processed correctly\""
     ],
     "language": "python",
     "metadata": {},
     "outputs": [],
     "prompt_number": 397
    },
    {
     "cell_type": "code",
     "collapsed": false,
     "input": [
      "os.getcwd()"
     ],
     "language": "python",
     "metadata": {},
     "outputs": [
      {
       "metadata": {},
       "output_type": "pyout",
       "prompt_number": 4,
       "text": [
        "'/Users/icortes/Desktop/BioAlerts'"
       ]
      }
     ],
     "prompt_number": 4
    },
    {
     "cell_type": "code",
     "collapsed": false,
     "input": [
      "#a=load_molecules(\"./bioalerts/test.sdf\")\n",
      "a=load_molecules(\"./bioalerts/smiles_tox.smi\",name_field=\"_Name\")\n",
      "a.read_molecules()"
     ],
     "language": "python",
     "metadata": {},
     "outputs": [
      {
       "output_type": "stream",
       "stream": "stdout",
       "text": [
        "Format of the structures file = SMILES\n",
        "The following 6 molecules (starting at zero) could not be processed:\n"
       ]
      },
      {
       "output_type": "stream",
       "stream": "stdout",
       "text": [
        "\n",
        "NOTE: the indexes of the molecules start at zero. Thus the first molecule is molecule 0.\n",
        "This information has been saved in the following file: incorrect_molecules_.csv\n",
        "\n"
       ]
      }
     ],
     "prompt_number": 5
    },
    {
     "cell_type": "heading",
     "level": 1,
     "metadata": {},
     "source": [
      "Class to get the substructure IDs"
     ]
    },
    {
     "cell_type": "code",
     "collapsed": false,
     "input": [
      "class get_dataset_info:\n",
      "    '''\n",
      "    Crate a dictionary: keys = substructure IDs, value = compound IDs.\n",
      "        Thus, we now for a compound, which substructures it contains\n",
      "    '''\n",
      "\n",
      "    def __init__(self,name_field=None):\n",
      "        self.name_field = name_field\n",
      "        self.nb_substructures = None\n",
      "        self.max_radius = None\n",
      "        self.mols_ids = []\n",
      "        self.substructure_dictionary = {}\n",
      "    \n",
      "    import operator\n",
      "    def _combine_dicts(self,a, b, op=operator.add):\n",
      "        return dict(a.items() + b.items() + [(k, op(a[k], b[k])) for k in set(b) & set(a)])\n",
      "        \n",
      "    def extract_substructure_information(self,radii,mols):\n",
      "        self.radii = radii\n",
      "        \n",
      "        global indexes_mols\n",
      "        \n",
      "        #if len(mols[0].GetPropNames()) == 0:\n",
      "         #   print \"The molecules do not have a name. Numerical indexes will be used instead\"\n",
      "          #indexes_mols = True\n",
      "        \n",
      "        for i,m in enumerate(mols):\n",
      "            info={}\n",
      "            fp = AllChem.GetMorganFingerprint(m,max(radii),bitInfo=info)\n",
      "            mol_id = i if self.name_field == None else m.GetProp(self.name_field)\n",
      "            self.mols_ids.append(mol_id)\n",
      "            substructure_dictionary = {k:[mol_id] for k,v in info.iteritems() if v[0][1] in radii}\n",
      "            self.substructure_dictionary = self._combine_dicts(substructure_dictionary,self.substructure_dictionary)\n",
      "        self.nb_substructures = len(self.substructure_dictionary.keys())\n",
      "        self.max_radius = max(radii)"
     ],
     "language": "python",
     "metadata": {},
     "outputs": [],
     "prompt_number": 75
    },
    {
     "cell_type": "code",
     "collapsed": false,
     "input": [
      "d = get_dataset_info(name_field='_Name')"
     ],
     "language": "python",
     "metadata": {},
     "outputs": [],
     "prompt_number": 77
    },
    {
     "cell_type": "code",
     "collapsed": false,
     "input": [
      "d.extract_substructure_information(radii=[2],mols=a.mols)"
     ],
     "language": "python",
     "metadata": {},
     "outputs": [],
     "prompt_number": 78
    },
    {
     "cell_type": "code",
     "collapsed": false,
     "input": [
      "print len(d.substructure_dictionary.keys())"
     ],
     "language": "python",
     "metadata": {},
     "outputs": [
      {
       "output_type": "stream",
       "stream": "stdout",
       "text": [
        "16199\n"
       ]
      }
     ],
     "prompt_number": 79
    },
    {
     "cell_type": "code",
     "collapsed": false,
     "input": [
      "print d.max_radius"
     ],
     "language": "python",
     "metadata": {},
     "outputs": [
      {
       "output_type": "stream",
       "stream": "stdout",
       "text": [
        "2\n"
       ]
      }
     ],
     "prompt_number": 80
    },
    {
     "cell_type": "heading",
     "level": 1,
     "metadata": {},
     "source": [
      "Class to calculate the alert for new molecules"
     ]
    },
    {
     "cell_type": "code",
     "collapsed": false,
     "input": [
      "class CalculatePvaluesCategorical:\n",
      "    '''\n",
      "    Calculate the p.values for each substructure in the input molecule\n",
      "    n mols in the dataset\n",
      "    m mols with a given activity label\n",
      "    n' compounds with the substruct\n",
      "    m' compounds from n' with the activity label\n",
      "    '''\n",
      "    def __init__(self,max_radius):\n",
      "        # needs to be the same as the one used to calcualte the dictionary of substructures\n",
      "        self.max_radius = max_radius\n",
      "        columns = ['Compound ID','p_value','Compounds with substr.',\n",
      "                   #'Compounds with substr. and activity',\n",
      "                   'activity label',\n",
      "                   'Substructure','Substructure in Molecule',\n",
      "                   'Comp. with substr. active',\n",
      "                   'Comp. with substr. inactive',]#,'Smiles']\n",
      "        self.output = pd.DataFrame(columns=columns)\n",
      "    \n",
      "    def calculate_p_values(self,\n",
      "                           mols,substructure_dictionary,\n",
      "                           bioactivities,mols_ids,\n",
      "                           threshold_nb_substructures,\n",
      "                           threshold_pvalue,\n",
      "                           threshold_frequency,\n",
      "                           active_label=1,\n",
      "                           inactive_label=0):\n",
      "        \n",
      "        nb_mols = float(len(set([item for sublist in substructure_dictionary.values() for item in sublist])))\n",
      "        nb_active_mols = float(np.sum(bioactivities == active_label))\n",
      "        nb_inactive_mols = float(np.sum(bioactivities == inactive_label))\n",
      "\n",
      "        \n",
      "        if type(mols) != list: mols =  mols = [ext.mols[i] for i in np.arange(0,len(mols))]  #[x for x in mols]\n",
      "        for m,mol in enumerate(mols): #np.arange(0,len(mols)):\n",
      "            #mol=mols[m]\n",
      "            info={}\n",
      "            fp = AllChem.GetMorganFingerprint(mol,self.max_radius,bitInfo=info)\n",
      "            from decimal import Decimal\n",
      "            substructures_sub_dict = substructure_dictionary.keys()\n",
      "            \n",
      "            for substructure_id, atom_radius in info.iteritems():\n",
      "                # check is the substructure is in the database\n",
      "                if substructure_id in substructures_sub_dict:\n",
      "                    nb_comp_with_substructure = float(len(substructure_dictionary[substructure_id]))\n",
      "                    active_comp = (bioactivities == active_label)\n",
      "                    comp_with_substructure = np.in1d(np.asarray(mols_ids) , np.asarray(substructure_dictionary[substructure_id]))\n",
      "                    nb_comp_with_substructure_active = np.sum(active_comp * comp_with_substructure)\n",
      "                    inactive_comp = (bioactivities == inactive_label)\n",
      "                    comp_with_substructure = np.in1d(np.asarray(mols_ids) , np.asarray(substructure_dictionary[substructure_id]))\n",
      "                    nb_comp_with_substructure_inactive = np.sum(inactive_comp * comp_with_substructure)\n",
      "                    \n",
      "                                        \n",
      "                    ## ACTIVE \n",
      "                    #########\n",
      "                    #filter threshold of compounds with the substructure\n",
      "                    filter_a = nb_comp_with_substructure > threshold_nb_substructures\n",
      "                    # filter threshold\n",
      "                    filter_b = (float(nb_comp_with_substructure_active) / float(len(comp_with_substructure))) > threshold_frequency\n",
      "                    if filter_a and filter_b:\n",
      "                        p_value = 0 \n",
      "                        for count in np.arange(nb_comp_with_substructure_active,nb_comp_with_substructure):\n",
      "                            numerator = Decimal(sc.math.factorial(float(nb_comp_with_substructure)))\n",
      "                            denominatorA = Decimal(sc.math.factorial(float(count))) * Decimal(sc.math.factorial(float(nb_comp_with_substructure-count)))\n",
      "                            denominatorB = (nb_active_mols/nb_mols)**float(count)\n",
      "                            denominatorC = (1.0 - (nb_active_mols/nb_mols))**(nb_comp_with_substructure - count)\n",
      "                            out = float(numerator/denominatorA) * denominatorB * denominatorC\n",
      "                            p_value += out \n",
      "                        \n",
      "                        if p_value < threshold_pvalue:\n",
      "                            #self.p_values_dictionary[substructure_id] = p_value\n",
      "                    \n",
      "                            # Drawing\n",
      "                            env = Chem.FindAtomEnvironmentOfRadiusN(mol,atom_radius[0][1],atom_radius[0][0])\n",
      "                            amap = {}\n",
      "                            submol=Chem.PathToSubmol(mol,env,atomMap=amap)\n",
      "                            m1 = mol\n",
      "                            m1.GetSubstructMatch(submol)\n",
      "                            #mm = Draw.MolToImage( mol,wedgeBonds=True,kekulize=True,highlightAtoms=amap.keys(),colour='green')\n",
      "                            self.output = self.output.append({'Compound ID' : mols_ids[m],\n",
      "                                                              'Compounds with substr.' : nb_comp_with_substructure,\n",
      "                                                #'Compounds with substr. and activity' : nb_comp_with_substructure_active,\n",
      "                                                'p_value' : p_value,\n",
      "                                                'activity label':active_label,\n",
      "                                                'Substructure in Molecule': m1,\n",
      "                                                'Substructure':submol,\n",
      "                                                'Comp. with substr. active':nb_comp_with_substructure_active,\n",
      "                                                'Comp. with substr. inactive':nb_comp_with_substructure_inactive\n",
      "                                                #'Smiles': Chem.MolToSmiles(mol)\n",
      "                                                },ignore_index=True)\n",
      "                    \n",
      "                    ## INACTIVE \n",
      "                    #########\n",
      "                    #filter threshold of compounds with the substructure\n",
      "                    filter_a = nb_comp_with_substructure > threshold_nb_substructures\n",
      "                    # filter threshold\n",
      "                    filter_b = (float(nb_comp_with_substructure_inactive) / float(len(comp_with_substructure))) > threshold_frequency\n",
      "                    if filter_a and filter_b:\n",
      "                        p_value = 0 \n",
      "                        for count in np.arange(nb_comp_with_substructure_inactive,nb_comp_with_substructure):\n",
      "                            numerator = Decimal(sc.math.factorial(float(nb_comp_with_substructure)))\n",
      "                            denominatorA = Decimal(sc.math.factorial(float(count))) * Decimal(sc.math.factorial(float(nb_comp_with_substructure-count)))\n",
      "                            denominatorB = (nb_inactive_mols/nb_mols)**float(count)\n",
      "                            denominatorC = (1.0 - (nb_inactive_mols/nb_mols))**(nb_comp_with_substructure - count)\n",
      "                            out = float(numerator/denominatorA) * denominatorB * denominatorC\n",
      "                            p_value += out \n",
      "                        \n",
      "                        if p_value < threshold_pvalue:\n",
      "                            #self.p_values_dictionary[substructure_id] = p_value\n",
      "                    \n",
      "                            # Drawing\n",
      "                            env = Chem.FindAtomEnvironmentOfRadiusN(mol,atom_radius[0][1],atom_radius[0][0])\n",
      "                            amap = {}\n",
      "                            submol=Chem.PathToSubmol(mol,env,atomMap=amap)\n",
      "                            m1 = mol\n",
      "                            m1.GetSubstructMatch(submol)\n",
      "                            #mm = Draw.MolToImage(mol,wedgeBonds=True,kekulize=True,highlightAtoms=amap.keys(),colour='red')\n",
      "                            self.output = self.output.append({'Compound ID' : mols_ids[m],\n",
      "                                                'Compounds with substr.' : nb_comp_with_substructure,\n",
      "                                                #'Compounds with substr. and activity' : nb_comp_with_substructure_active,\n",
      "                                                'p_value' : p_value,\n",
      "                                                'activity label':inactive_label,\n",
      "                                                'Substructure in Molecule': m1,\n",
      "                                                'Substructure':submol,\n",
      "                                                'Comp. with substr. active':nb_comp_with_substructure_active,\n",
      "                                                'Comp. with substr. inactive':nb_comp_with_substructure_inactive\n",
      "                                                #'Smiles': Chem.MolToSmiles(mol)\n",
      "                                                },ignore_index=True)\n",
      "                            \n",
      "    def OutputWriter(self,output_filename):\n",
      "        if os.path.exists(output_filename): os.remove(output_filename)\n",
      "        with open(output_filename, 'w') as fo:\n",
      "            fo.write(self.output.to_html())\n",
      "       \n",
      "        "
     ],
     "language": "python",
     "metadata": {},
     "outputs": [],
     "prompt_number": 188
    },
    {
     "cell_type": "code",
     "collapsed": false,
     "input": [
      "bioactivities = np.genfromtxt('./bioalerts/ames.bio',dtype='int',skip_header=0)\n",
      "arr = np.arange(0,len(bioactivities))\n",
      "mask = np.ones(arr.shape,dtype=bool)\n",
      "mask[a.molserr]=0\n",
      "bioactivities =  bioactivities[mask]\n",
      "print len(bioactivities)\n",
      "print len(a.mols)"
     ],
     "language": "python",
     "metadata": {},
     "outputs": [
      {
       "output_type": "stream",
       "stream": "stdout",
       "text": [
        "6506\n",
        "6506\n"
       ]
      }
     ],
     "prompt_number": 88
    },
    {
     "cell_type": "code",
     "collapsed": false,
     "input": [
      "ff = CalculatePvaluesCategorical(max_radius=2)\n",
      "ff.calculate_p_values([a.mols[0]],substructure_dictionary=d.substructure_dictionary,\n",
      "                      bioactivities=bioactivities,mols_ids=d.mols_ids,\n",
      "                      threshold_nb_substructures = 5,\n",
      "                      threshold_pvalue = 0.05,\n",
      "                      threshold_frequency = 0)\n",
      "                      \n",
      "                      "
     ],
     "language": "python",
     "metadata": {},
     "outputs": [],
     "prompt_number": 89
    },
    {
     "cell_type": "code",
     "collapsed": false,
     "input": [
      "ff.output#['Substructure in Molecule'][1]"
     ],
     "language": "python",
     "metadata": {},
     "outputs": [
      {
       "html": [
        "<div style=\"max-height:1000px;max-width:1500px;overflow:auto;\">\n",
        "<table border=\"1\" class=\"dataframe\">\n",
        "  <thead>\n",
        "    <tr style=\"text-align: right;\">\n",
        "      <th></th>\n",
        "      <th>Compound ID</th>\n",
        "      <th>p_value</th>\n",
        "      <th>Compounds with substr.</th>\n",
        "      <th>activity label</th>\n",
        "      <th>Substructure</th>\n",
        "      <th>Substructure in Molecule</th>\n",
        "      <th>Comp. with substr. active</th>\n",
        "      <th>Comp. with substr. inactive</th>\n",
        "    </tr>\n",
        "  </thead>\n",
        "  <tbody>\n",
        "    <tr>\n",
        "      <th>0</th>\n",
        "      <td> 2475-33-4</td>\n",
        "      <td> 2.496942e-02</td>\n",
        "      <td>  16</td>\n",
        "      <td> 1</td>\n",
        "      <td>                                             <img src=\"data:image/png;base64,iVBORw0KGgoAAAANSUhEUgAAASwAAAEsCAIAAAD2HxkiAAAFO0lEQVR4nO3d0VLbOABAUbLT//9l7wM7tIUsJI7ta8nnPLUzkFhBF0txSG7LsrwBnX/qA4CrEyHERAgxEUJMhBATIcRECDERQkyEEBMhxEQIMRFCTIQQEyHERAgxEUJMhBATIcRECDERQkyEEBMhxEQIMRFCTIQQEyHERAgxEUJMhBATIcRECDERQkyEEBMhxEQIMRFCTIQQEyHERAgxEUJMhBATIcRECDERQkyEEBMhxEQIMRFCTIQQEyHERAgxEUJMhBATIcRECDERQkyEEBMhxEQIMRFCTIQQEyHERAgxEUJMhBATIcRECDERQkyEEBMhxEQIMRFCTIQQEyHERAgxEUJMhBATIcRECDERQkyEEBMhxEQIMRFCTIQQEyHERAgxEUJMhBATIcRECDERQkyEEBMhxEQIMRFCTIQQEyHERAgxEUJMhBAT4Y5ut1t9CNuYZiDnJEKIiRBiIoSYCLcxx65pjlEMR4QQEyHERAgxEUJMhNtYlqU+hA3MMYrhiBBiIoSYCLcxxxW2OUYxHBFCTIQQEyHERAgxEW5jjitsc4xiOCKEmAghJsJtzHGFbY5RDEeEEBMhxEQIMRFCTITbmOMK2xyjGI4IISZCiIlwG3NcYZtjFMMRIcRECDERQkyEEBMhvy3L4rmZ4/2qD2B477N2gsvc0wxkOCJ8ye12Wz1rX/nebcmvJcKXvDJxP9Z++ezPD+Di7AmftuGuaVmWcBtm+3cSzoRP2OnEdfyJ6CRnYN6J8FFPbeE+Zvmz033vjeKK43k708p5Smd5bmAadyfrUzP4JNP99YHwIBF+Z93Zb/UXrL7rbW9t24HwIxHet98y8uAZvOtATJ5NeBzv2Pa8scldrPgxrd7+7XcX3CXC9V6cgufZKB45EL4S4W/JknLzjeIBp/G9b+pqRPj2lj5lsuIAtrqRBwdywMr54q7+kJ1nTfjU7X/6yr23f6d6lOZz9QgfdOTE2nVV/MpApLgTEf7s+CXWTsvjZCAm2I88Rt9pf52f+VmT014XHZEI7zvP1Dnt9QOr062I8LNzTpcV67pjBiLF14nwL2few+TXUbZy5mNLeDj+M8ov6TO/utpGcR0RDjkhTvt3RlanK1w6wtEnwWn/4laKT7luhEPvTP48+I9/TzOiq7nuGz1N8yM/+UAefDupk49iV9eNkGO8r5a9s9s3RMjulmVZvMH+/xMhB7nygvN7IoSYCCEmQoiJEGIihJgIISZCiIkQYiKEmAiHdPe1J16QMigRQkyEEBMhxEQIMRFCTIQQEyHERAgxEUJMhBATIcRECDERQkyEELvup3DASTgTQkyEEBMhxEQIMRFCTIQQEyHEftUHwFp/fvCti70jE+GYbre/wvv0X4ZiOTqgr8kty5tPhB+WCCEmQoiJEGIihJgIB/T1aRjPjo7MJYoxfepQgSMT4bCENwvLUYiJEGIihJgIISZCiIkQYiKEmAghJkKIiRBiIoSYCCEmQoiJEGIihJgIISZCiIkQYiKEmAghJkKIiRBiIoSYCCEmQoiJEGIihJgIISZCiIkQYiKEmAghJkKIiRBiIoSYCCEmQoiJEGIihJgIISZCiIkQYiKEmAghJkKIiRBiIoSYCCEmQoiJEGIihJgIISZCiIkQYiKEmAghJkKIiRBiIoSYCCEmQoiJEGIihJgIISZCiIkQYiKEmAghJkKIiRBiIoSYCCEmQoiJEGIihJgIISZCiIkQYiKEmAghJkKIiRBiIoSYCCEmQoiJEGIihJgIISZCiIkQYiKEmAghJkKIiRBi/wIkfu8eEFWTPgAAAABJRU5ErkJggg==\" alt=\"Mol\"/></td>\n",
        "      <td> <img src=\"data:image/png;base64,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\" alt=\"Mol\"/></td>\n",
        "      <td>  13</td>\n",
        "      <td>   3</td>\n",
        "    </tr>\n",
        "    <tr>\n",
        "      <th>1</th>\n",
        "      <td> 2475-33-4</td>\n",
        "      <td> 6.608030e-43</td>\n",
        "      <td> 914</td>\n",
        "      <td> 1</td>\n",
        "      <td>                                         <img src=\"data:image/png;base64,iVBORw0KGgoAAAANSUhEUgAAASwAAAEsCAIAAAD2HxkiAAAFP0lEQVR4nO3d21ajSABA0WTW/P8vMw/2dNteCPcDsveTD5qgVSdVQNTnMAwPoPNPfQBwdyKEmAghJkKIiRBiIoSYCCEmQoiJEGIihJgIISZCiIkQYiKEmAghJkKIiRBiIoSYCCEmQoiJEGIihJgIISZCiIkQYiKEmAghJkKIiRBiIoSYCCEmQoiJEGIihJgIISZCiIkQYiKEmAghJkKIiRBiIoSYCCEmQoiJEGIihJgIISZCiIkQYiKEmAghJkKIiRBiIoSYCCEmQoiJEGIihJgIISZCiIkQYiKEmAghJkKIiRBiIoSYCCEmQoiJEGIihJgIISZCiIkQYiKEmAghJkKIiRBiIoSYCCEmQoiJEGIihJgIISZCiIkQYiKEmAghJkKIiRBiIoSYCCEmQoiJEGIihJgIISZCiIkQYiKEmAghJkKIiRBiIoSYCCEmQoiJEGIihJgIISZCiIkQYiKEmAghJkKIiRBiIoSYCCEmQoiJEGIihNitI3w+n/UhwL0jHIZBh+RuHeHj/w6lSOjuET4ej2EYLImERPiLDqmI8A9bUxIi/IutKccT4Rd0yJFuGuHLxmxNOcxzGIb6GBpvgb389p/PU/+IJn4XnNmpZ9gBpjR2zg7f53fOI2QigzfJeWb57x3yh+OxJF7XWebW+bWz/Lv2Pn+aAb0cY/bHObemc+PX4eUYsL9MmfHHzPKJS993X2tYL8RofeHlJN51a7rJgztFvBARLrftgrNm6Rt5TON7fgZplU1m+eJV65wnscxlhMZMnOWPpQm9fbAmPx3+AIbnhc3fWLNy2/n5eHZ9pTjAmY/tGCKcZJMFZ/1s++4pJr4EnG1JlN+bc43K1X05q1ZuO5d94cgD5iO+xyWoS+uH5Od5f8L22G7bOeupV37OTix9XxLhPNM3fo8Vs21NJyc8RbT0jRPhbDu9q2bDBeo8p4iWvilEuND4DJ41v/eYqW2Hlr5ZRLiLWXcs2iHY430/JtUsItzey0Xycez52AGniJa+Nf6tD+BGklXi7Y/ljD/pml/PX3wV9/1T35wIDxJuO3//8biXKR7wvh/71c9sR7eXn+Z95yTv++EDK+Fx8jinPPt3y6albz8ivKPxl4MPp4grf01Efi+J8I4mXq1ZWZH8JhLhQfK96AfTr5pO5ILnYiLc2NliGzHrcugI286VLjNjruJCEXISVkJms/PclgiZwc5zDzf912gH+zH/Ym0YBgVuToQQEyHERAgxEW7J/QkWEOERlMkIEUJMhBAT4e5+zE1CdiJCiIkQYiLcjPsTLCNCiIlwd5ZHxokQYiKEmAj35SYhL4kQYiKEmAi34SYhi4kQYiLcl+WRl0QIMRFuw4rHYiKEmAghJkKIiRBiIoSYCCEmQoiJEGIihJgIISZCiIkQYiKEmAghJkKIiRBiIoSYCCEmQoiJEGIihJgIISZCiIkQYiKEmAghJkKIiRBiIoSYCCEmQoiJEGIihJgIISZCiIkQYiKEmAghJkKIiRBiIoSYCCEmQoiJEGIihJgIISZCiIkQYiKEmAghJkKIiRBiIoSYCCEmQoiJEGIihJgIISZCiIkQYiKEmAghJkKIiRBiIoSYCCEmQoiJEGIihJgIISZCiIkQYiKEmAghJkKIiRBiIoSYCCEmQoiJEGIihJgIISZCiIkQYiKEmAghJkKIiRBiIoSYCCEmQoiJEGIihJgIISZCiIkQYiKEmAghJkKIiRBiIoSYCCEmQoiJEGIihJgIISZCiIkQYiKEmAghJkKIiRBiIoSYCCEmQoiJEGIihJgIIfYfwzcVCuN51zoAAAAASUVORK5CYII=\" alt=\"Mol\"/></td>\n",
        "      <td> <img src=\"data:image/png;base64,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\" alt=\"Mol\"/></td>\n",
        "      <td> 697</td>\n",
        "      <td> 217</td>\n",
        "    </tr>\n",
        "    <tr>\n",
        "      <th>2</th>\n",
        "      <td> 2475-33-4</td>\n",
        "      <td> 9.686283e-38</td>\n",
        "      <td> 478</td>\n",
        "      <td> 1</td>\n",
        "      <td> <img src=\"data:image/png;base64,iVBORw0KGgoAAAANSUhEUgAAASwAAAEsCAIAAAD2HxkiAAAFXUlEQVR4nO3cy3baSBRAUejV///L6gFpx4kx6H0ka+9RBjYIqw63EIT7MAw3oPNPfQBwdSKEmAghJkKIiRBiIoSYCCEmQoiJEGIihJgIISZCiIkQYiKEmAghJkKIiRBiIoSYCCEmQoiJEGIihJgIISZCiIkQYiKEmAghJkKIiRBiIoSYCCEmQoiJEGIihJgIISZCiIkQYiKEmAghJkKIiRBiIoSYCCEmQoiJEGIihJgIISZCiIkQYiKEmAghJkKIiRBiIoSYCCEmQoiJEGIihJgIISZCiIkQYiKEmAghJkKIiRBiIoSYCCEmQoiJEGIihJgIISZCiIkQYiKEmAghJkKIiRBiIoSYCCEmQoiJEGIihJgIISZCiIkQYiKEmAghJkKIiRBiIoSYCCEmQoiJEGIihJgIISZCiIkQYiKEmAghJkKIiRBiIoSYCCEmQoiJEGIihJgIISZCiIkQYiKEmAghJkKIiRBiIoSYCCEmQoiJEGIihNilI7zf7/UhwLUjHIZBh+QuHeHt/w6lSOjqEd5ut2EYjERCIvxFh1RE+JutKQkR/sHWlP2J8AkdsqeLRvi2MVtTdnMfhqE+hsYjsLcP/34/9J9o5KPgyA69wnYwprFjdvg5v2MeISM5eaMcZ5V/7JD/Oh4j8byOsraOr13l37X39cec0NNxzn475tZ0avw6PB0n7A9jVvw+q3zk6Pvud53WE3G2nni7iDfdmq5y414inogI51t34CwZfS9u0/k9PidpkVVW+eypdcwXsUzlDL0ycpXf5ib0+MeS/HT4Azg9b6z+wZqF286vx7PpM8UOjnxs+xDhKKsMnOWr7bu7GPkUcLSRKL+HY52Vs3u6qhZuO+f94osbzM/4FpegTq0/JT/P5xdst/W2nZPueuHPbMToe0qE04zf+N0WrLYlnRzwJaLR95oIJ9voUzUrDqjjvEQ0+sYQ4UyvV/Ck9b3FSm07NPomEeEiCy9XTvrJjWzxuR+LapJ/6wP4gd4OydunZbrDhvD1XXx8oc7C904+bm32jVyWCOebOkOSKfFo7G2Ht7kjcfZV3M93fXEi3Em47Rw568bk+mF2RfarX4lwJ+2yGznrxnS4sCL5feXCzPryay0Lrfu5H6PvLZPwil4/Tfw1Nhf+NxH5vXXu5+xjOsUkPOAHay7rot/AvYpTfz/3MOKr/odhmPSRA99ZPo/t6MpOMQYfJl0OfcHAXEiEM50othdWeQg/4O/QEiGTeat9XSJkAjvPLYhwpmsuxGs+6q25OgoxEUJMhDM9fUPsZ1wyZWcihJgI5zDxWJEIISZCiIlwDntRViRCiIkQYiKcw5uErEiEEBPhZCYe6xIhxEQIMRFOZi/KukQIMRFCTITrcMmU2UQIMRFCTIQQE+E6vCBkNhFCTIQQEyHERAgxEUJMhBATIcRECDERQkyEEBMhxEQIMRFCTIQQEyHERAgxEUJMhBATIcRECDERQkyEEBMhxEQIMRFCTIQQEyHERAgxEUJMhBATIcRECDERQkyEEBMhxEQIMRFCTIQQEyHERAgxEUJMhBATIcRECDERQkyEEBMhxEQIMRFCTIQQEyHERAgxEUJMhBATIcRECDERQkyEEBMhxEQIMRFCTIQQEyHERAgxEUJMhBATIcRECDERQkyEEBMhxEQIMRFCTIQQEyHERAgxEUJMhBATIcRECDERQkyEEBMhxEQIMRFCTIQQEyHERAgxEUJMhBATIcRECDERQkyEEBMhxEQIMRFCTIQQEyHERAgxEUJMhBATIcRECDERQkyEEBMhxEQIMRFCTIQQEyHERAgxEUJMhBATIcRECDERQkyEEPsP5kweE81Jom8AAAAASUVORK5CYII=\" alt=\"Mol\"/></td>\n",
        "      <td> <img src=\"data:image/png;base64,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\" alt=\"Mol\"/></td>\n",
        "      <td> 393</td>\n",
        "      <td>  85</td>\n",
        "    </tr>\n",
        "  </tbody>\n",
        "</table>\n",
        "</div>"
       ],
       "metadata": {},
       "output_type": "pyout",
       "prompt_number": 39,
       "text": [
        "  Compound ID       p_value  Compounds with substr.  activity label                                                                                                                                                                                                                                                                                                                                                                                                                                                                                                                                                                                                                                                                                                                                                                                                                                                                                                                                                                                                                                                                                                                                                                                                                                                                                                                                                                                                                                                                                                                                                                                                                                                                                                                                                                                                                                                                                                                                                                                                                       Substructure                                                                                                                                                                                                                                                                                                                                                                                                                                                                                                                                                                                                                                                                                                                                                                                                                                                                                                                                                                                                                                                                                                                                                                                                                                                                                                                                                                                                                                                                                                                                                                                                                                                                                                                                                                                                                                                                                                                                                                                                                                                                                                                                                                                                                                                                                                                                                                                                                                                                                                                                                                                                                                                                                                                                                                                                                                                                                                                                                                                                                                                                                                                                                                                                                                                                                                                                                                                                                                                                                                                                                                                                                                                                                           Substructure in Molecule  Comp. with substr. active  Comp. with substr. inactive\n",
        "0   2475-33-4  2.496942e-02                      16               1                                              <img src=\"data:image/png;base64,iVBORw0KGgoAAAANSUhEUgAAASwAAAEsCAIAAAD2HxkiAAAFO0lEQVR4nO3d0VLbOABAUbLT//9l7wM7tIUsJI7ta8nnPLUzkFhBF0txSG7LsrwBnX/qA4CrEyHERAgxEUJMhBATIcRECDERQkyEEBMhxEQIMRFCTIQQEyHERAgxEUJMhBATIcRECDERQkyEEBMhxEQIMRFCTIQQEyHERAgxEUJMhBATIcRECDERQkyEEBMhxEQIMRFCTIQQEyHERAgxEUJMhBATIcRECDERQkyEEBMhxEQIMRFCTIQQEyHERAgxEUJMhBATIcRECDERQkyEEBMhxEQIMRFCTIQQEyHERAgxEUJMhBATIcRECDERQkyEEBMhxEQIMRFCTIQQEyHERAgxEUJMhBATIcRECDERQkyEEBMhxEQIMRFCTIQQEyHERAgxEUJMhBATIcRECDERQkyEEBMhxEQIMRFCTIQQEyHERAgxEUJMhBAT4Y5ut1t9CNuYZiDnJEKIiRBiIoSYCLcxx65pjlEMR4QQEyHERAgxEUJMhNtYlqU+hA3MMYrhiBBiIoSYCLcxxxW2OUYxHBFCTIQQEyHERAgxEW5jjitsc4xiOCKEmAghJsJtzHGFbY5RDEeEEBMhxEQIMRFCTITbmOMK2xyjGI4IISZCiIlwG3NcYZtjFMMRIcRECDERQkyEEBMhvy3L4rmZ4/2qD2B477N2gsvc0wxkOCJ8ye12Wz1rX/nebcmvJcKXvDJxP9Z++ezPD+Di7AmftuGuaVmWcBtm+3cSzoRP2OnEdfyJ6CRnYN6J8FFPbeE+Zvmz033vjeKK43k708p5Smd5bmAadyfrUzP4JNP99YHwIBF+Z93Zb/UXrL7rbW9t24HwIxHet98y8uAZvOtATJ5NeBzv2Pa8scldrPgxrd7+7XcX3CXC9V6cgufZKB45EL4S4W/JknLzjeIBp/G9b+pqRPj2lj5lsuIAtrqRBwdywMr54q7+kJ1nTfjU7X/6yr23f6d6lOZz9QgfdOTE2nVV/MpApLgTEf7s+CXWTsvjZCAm2I88Rt9pf52f+VmT014XHZEI7zvP1Dnt9QOr062I8LNzTpcV67pjBiLF14nwL2few+TXUbZy5mNLeDj+M8ov6TO/utpGcR0RDjkhTvt3RlanK1w6wtEnwWn/4laKT7luhEPvTP48+I9/TzOiq7nuGz1N8yM/+UAefDupk49iV9eNkGO8r5a9s9s3RMjulmVZvMH+/xMhB7nygvN7IoSYCCEmQoiJEGIihJgIISZCiIkQYiKEmAiHdPe1J16QMigRQkyEEBMhxEQIMRFCTIQQEyHERAgxEUJMhBATIcRECDERQkyEELvup3DASTgTQkyEEBMhxEQIMRFCTIQQEyHEftUHwFp/fvCti70jE+GYbre/wvv0X4ZiOTqgr8kty5tPhB+WCCEmQoiJEGIihJgIB/T1aRjPjo7MJYoxfepQgSMT4bCENwvLUYiJEGIihJgIISZCiIkQYiKEmAghJkKIiRBiIoSYCCEmQoiJEGIihJgIISZCiIkQYiKEmAghJkKIiRBiIoSYCCEmQoiJEGIihJgIISZCiIkQYiKEmAghJkKIiRBiIoSYCCEmQoiJEGIihJgIISZCiIkQYiKEmAghJkKIiRBiIoSYCCEmQoiJEGIihJgIISZCiIkQYiKEmAghJkKIiRBiIoSYCCEmQoiJEGIihJgIISZCiIkQYiKEmAghJkKIiRBiIoSYCCEmQoiJEGIihJgIISZCiIkQYiKEmAghJkKIiRBiIoSYCCEmQoiJEGIihJgIISZCiIkQYiKEmAghJkKIiRBi/wIkfu8eEFWTPgAAAABJRU5ErkJggg==\" alt=\"Mol\"/>  <img src=\"data:image/png;base64,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\" alt=\"Mol\"/>                         13                            3\n",
        "1   2475-33-4  6.608030e-43                     914               1                                          <img src=\"data:image/png;base64,iVBORw0KGgoAAAANSUhEUgAAASwAAAEsCAIAAAD2HxkiAAAFP0lEQVR4nO3d21ajSABA0WTW/P8vMw/2dNteCPcDsveTD5qgVSdVQNTnMAwPoPNPfQBwdyKEmAghJkKIiRBiIoSYCCEmQoiJEGIihJgIISZCiIkQYiKEmAghJkKIiRBiIoSYCCEmQoiJEGIihJgIISZCiIkQYiKEmAghJkKIiRBiIoSYCCEmQoiJEGIihJgIISZCiIkQYiKEmAghJkKIiRBiIoSYCCEmQoiJEGIihJgIISZCiIkQYiKEmAghJkKIiRBiIoSYCCEmQoiJEGIihJgIISZCiIkQYiKEmAghJkKIiRBiIoSYCCEmQoiJEGIihJgIISZCiIkQYiKEmAghJkKIiRBiIoSYCCEmQoiJEGIihJgIISZCiIkQYiKEmAghJkKIiRBiIoSYCCEmQoiJEGIihJgIISZCiIkQYiKEmAghJkKIiRBiIoSYCCEmQoiJEGIihJgIISZCiIkQYiKEmAghJkKIiRBiIoSYCCEmQoiJEGIihNitI3w+n/UhwL0jHIZBh+RuHeHj/w6lSOjuET4ej2EYLImERPiLDqmI8A9bUxIi/IutKccT4Rd0yJFuGuHLxmxNOcxzGIb6GBpvgb389p/PU/+IJn4XnNmpZ9gBpjR2zg7f53fOI2QigzfJeWb57x3yh+OxJF7XWebW+bWz/Lv2Pn+aAb0cY/bHObemc+PX4eUYsL9MmfHHzPKJS993X2tYL8RofeHlJN51a7rJgztFvBARLrftgrNm6Rt5TON7fgZplU1m+eJV65wnscxlhMZMnOWPpQm9fbAmPx3+AIbnhc3fWLNy2/n5eHZ9pTjAmY/tGCKcZJMFZ/1s++4pJr4EnG1JlN+bc43K1X05q1ZuO5d94cgD5iO+xyWoS+uH5Od5f8L22G7bOeupV37OTix9XxLhPNM3fo8Vs21NJyc8RbT0jRPhbDu9q2bDBeo8p4iWvilEuND4DJ41v/eYqW2Hlr5ZRLiLWXcs2iHY430/JtUsItzey0Xycez52AGniJa+Nf6tD+BGklXi7Y/ljD/pml/PX3wV9/1T35wIDxJuO3//8biXKR7wvh/71c9sR7eXn+Z95yTv++EDK+Fx8jinPPt3y6albz8ivKPxl4MPp4grf01Efi+J8I4mXq1ZWZH8JhLhQfK96AfTr5pO5ILnYiLc2NliGzHrcugI286VLjNjruJCEXISVkJms/PclgiZwc5zDzf912gH+zH/Ym0YBgVuToQQEyHERAgxEW7J/QkWEOERlMkIEUJMhBAT4e5+zE1CdiJCiIkQYiLcjPsTLCNCiIlwd5ZHxokQYiKEmAj35SYhL4kQYiKEmAi34SYhi4kQYiLcl+WRl0QIMRFuw4rHYiKEmAghJkKIiRBiIoSYCCEmQoiJEGIihJgIISZCiIkQYiKEmAghJkKIiRBiIoSYCCEmQoiJEGIihJgIISZCiIkQYiKEmAghJkKIiRBiIoSYCCEmQoiJEGIihJgIISZCiIkQYiKEmAghJkKIiRBiIoSYCCEmQoiJEGIihJgIISZCiIkQYiKEmAghJkKIiRBiIoSYCCEmQoiJEGIihJgIISZCiIkQYiKEmAghJkKIiRBiIoSYCCEmQoiJEGIihJgIISZCiIkQYiKEmAghJkKIiRBiIoSYCCEmQoiJEGIihJgIISZCiIkQYiKEmAghJkKIiRBiIoSYCCEmQoiJEGIihJgIISZCiIkQYiKEmAghJkKIiRBiIoSYCCEmQoiJEGIihJgIISZCiIkQYiKEmAghJkKIiRBiIoSYCCEmQoiJEGIihJgIIfYfwzcVCuN51zoAAAAASUVORK5CYII=\" alt=\"Mol\"/>  <img src=\"data:image/png;base64,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\" alt=\"Mol\"/>                        697                          217\n",
        "2   2475-33-4  9.686283e-38                     478               1  <img src=\"data:image/png;base64,iVBORw0KGgoAAAANSUhEUgAAASwAAAEsCAIAAAD2HxkiAAAFXUlEQVR4nO3cy3baSBRAUejV///L6gFpx4kx6H0ka+9RBjYIqw63EIT7MAw3oPNPfQBwdSKEmAghJkKIiRBiIoSYCCEmQoiJEGIihJgIISZCiIkQYiKEmAghJkKIiRBiIoSYCCEmQoiJEGIihJgIISZCiIkQYiKEmAghJkKIiRBiIoSYCCEmQoiJEGIihJgIISZCiIkQYiKEmAghJkKIiRBiIoSYCCEmQoiJEGIihJgIISZCiIkQYiKEmAghJkKIiRBiIoSYCCEmQoiJEGIihJgIISZCiIkQYiKEmAghJkKIiRBiIoSYCCEmQoiJEGIihJgIISZCiIkQYiKEmAghJkKIiRBiIoSYCCEmQoiJEGIihJgIISZCiIkQYiKEmAghJkKIiRBiIoSYCCEmQoiJEGIihJgIISZCiIkQYiKEmAghJkKIiRBiIoSYCCEmQoiJEGIihJgIISZCiIkQYiKEmAghJkKIiRBiIoSYCCEmQoiJEGIihNilI7zf7/UhwLUjHIZBh+QuHeHt/w6lSOjqEd5ut2EYjERCIvxFh1RE+JutKQkR/sHWlP2J8AkdsqeLRvi2MVtTdnMfhqE+hsYjsLcP/34/9J9o5KPgyA69wnYwprFjdvg5v2MeISM5eaMcZ5V/7JD/Oh4j8byOsraOr13l37X39cec0NNxzn475tZ0avw6PB0n7A9jVvw+q3zk6Pvud53WE3G2nni7iDfdmq5y414inogI51t34CwZfS9u0/k9PidpkVVW+eypdcwXsUzlDL0ycpXf5ib0+MeS/HT4Azg9b6z+wZqF286vx7PpM8UOjnxs+xDhKKsMnOWr7bu7GPkUcLSRKL+HY52Vs3u6qhZuO+f94osbzM/4FpegTq0/JT/P5xdst/W2nZPueuHPbMToe0qE04zf+N0WrLYlnRzwJaLR95oIJ9voUzUrDqjjvEQ0+sYQ4UyvV/Ck9b3FSm07NPomEeEiCy9XTvrJjWzxuR+LapJ/6wP4gd4OydunZbrDhvD1XXx8oc7C904+bm32jVyWCOebOkOSKfFo7G2Ht7kjcfZV3M93fXEi3Em47Rw568bk+mF2RfarX4lwJ+2yGznrxnS4sCL5feXCzPryay0Lrfu5H6PvLZPwil4/Tfw1Nhf+NxH5vXXu5+xjOsUkPOAHay7rot/AvYpTfz/3MOKr/odhmPSRA99ZPo/t6MpOMQYfJl0OfcHAXEiEM50othdWeQg/4O/QEiGTeat9XSJkAjvPLYhwpmsuxGs+6q25OgoxEUJMhDM9fUPsZ1wyZWcihJgI5zDxWJEIISZCiIlwDntRViRCiIkQYiKcw5uErEiEEBPhZCYe6xIhxEQIMRFOZi/KukQIMRFCTITrcMmU2UQIMRFCTIQQE+E6vCBkNhFCTIQQEyHERAgxEUJMhBATIcRECDERQkyEEBMhxEQIMRFCTIQQEyHERAgxEUJMhBATIcRECDERQkyEEBMhxEQIMRFCTIQQEyHERAgxEUJMhBATIcRECDERQkyEEBMhxEQIMRFCTIQQEyHERAgxEUJMhBATIcRECDERQkyEEBMhxEQIMRFCTIQQEyHERAgxEUJMhBATIcRECDERQkyEEBMhxEQIMRFCTIQQEyHERAgxEUJMhBATIcRECDERQkyEEBMhxEQIMRFCTIQQEyHERAgxEUJMhBATIcRECDERQkyEEBMhxEQIMRFCTIQQEyHERAgxEUJMhBATIcRECDERQkyEEBMhxEQIMRFCTIQQEyHERAgxEUJMhBATIcRECDERQkyEEBMhxEQIMRFCTIQQEyHERAgxEUJMhBATIcRECDERQkyEEPsP5kweE81Jom8AAAAASUVORK5CYII=\" alt=\"Mol\"/>  <img src=\"data:image/png;base64,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\" alt=\"Mol\"/>                        393                           85"
       ]
      }
     ],
     "prompt_number": 39
    },
    {
     "cell_type": "code",
     "collapsed": false,
     "input": [
      "PandasTools.AddMoleculeColumnToFrame(ff.output,smilesCol='Smiles',includeFingerprints=False)"
     ],
     "language": "python",
     "metadata": {},
     "outputs": [],
     "prompt_number": 39
    },
    {
     "cell_type": "code",
     "collapsed": false,
     "input": [
      "#PandasTools.RenderImagesInAllDataFrames()"
     ],
     "language": "python",
     "metadata": {},
     "outputs": [],
     "prompt_number": 21
    },
    {
     "cell_type": "code",
     "collapsed": false,
     "input": [
      "# Test\n",
      "#bb=a.mols[0]\n",
      "#core = Chem.MolFromSmarts('cc(c)c(=O)c(c)c')\n",
      "#match=bb.GetSubstructMatch(core)\n",
      "#bb"
     ],
     "language": "python",
     "metadata": {},
     "outputs": [
      {
       "metadata": {},
       "output_type": "pyout",
       "png": "[encoded data removed]",
       "prompt_number": 15,
       "text": [
        "<rdkit.Chem.rdchem.Mol at 0x1059d6600>"
       ]
      }
     ],
     "prompt_number": 15
    },
    {
     "cell_type": "code",
     "collapsed": false,
     "input": [
      "ff.OutputWriter('test.html')"
     ],
     "language": "python",
     "metadata": {},
     "outputs": [],
     "prompt_number": 60
    },
    {
     "cell_type": "heading",
     "level": 1,
     "metadata": {},
     "source": [
      "External data"
     ]
    },
    {
     "cell_type": "code",
     "collapsed": false,
     "input": [
      "ext=load_molecules(\"./bioalerts/young.sdf\",name_field=\"_Name\")\n",
      "ext.read_molecules()"
     ],
     "language": "python",
     "metadata": {},
     "outputs": [
      {
       "output_type": "stream",
       "stream": "stdout",
       "text": [
        "Format of the structures file = SDF\n",
        "The following 266 molecules (starting at zero) could not be processed:\n"
       ]
      },
      {
       "output_type": "stream",
       "stream": "stdout",
       "text": [
        "\n",
        "NOTE: the indexes of the molecules start at zero. Thus the first molecule is molecule 0.\n",
        "This information has been saved in the following file: incorrect_molecules_.csv\n",
        "\n"
       ]
      }
     ],
     "prompt_number": 61
    },
    {
     "cell_type": "code",
     "collapsed": false,
     "input": [
      "len(ext.mols)"
     ],
     "language": "python",
     "metadata": {},
     "outputs": [
      {
       "metadata": {},
       "output_type": "pyout",
       "prompt_number": 62,
       "text": [
        "1752"
       ]
      }
     ],
     "prompt_number": 62
    },
    {
     "cell_type": "code",
     "collapsed": false,
     "input": [
      "bioactivities_ext = np.genfromtxt('./bioalerts/young.dat',dtype='int',skip_header=1,usecols=1)\n",
      "arr = np.arange(0,len(bioactivities_ext))\n",
      "mask = np.ones(arr.shape,dtype=bool)\n",
      "mask[ext.molserr]=0\n",
      "bioactivities_ext =  bioactivities_ext[mask]\n",
      "print len(bioactivities_ext)\n",
      "print len(ext.mols)"
     ],
     "language": "python",
     "metadata": {},
     "outputs": [
      {
       "output_type": "stream",
       "stream": "stdout",
       "text": [
        "1752\n",
        "1752\n"
       ]
      }
     ],
     "prompt_number": 63
    },
    {
     "cell_type": "code",
     "collapsed": false,
     "input": [
      "fext = CalculatePvaluesCategorical(max_radius=2)\n",
      "fext.calculate_p_values(ext.mols[0:4],substructure_dictionary=d.substructure_dictionary,\n",
      "                      bioactivities=bioactivities,mols_ids=d.mols_ids,active_label=1,\n",
      "                      threshold_nb_substructures = 5,\n",
      "                      threshold_pvalue = 0.05,\n",
      "                      threshold_frequency = 0)"
     ],
     "language": "python",
     "metadata": {},
     "outputs": [],
     "prompt_number": 68
    },
    {
     "cell_type": "code",
     "collapsed": false,
     "input": [
      "fext.output"
     ],
     "language": "python",
     "metadata": {},
     "outputs": [
      {
       "html": [
        "<div style=\"max-height:1000px;max-width:1500px;overflow:auto;\">\n",
        "<table border=\"1\" class=\"dataframe\">\n",
        "  <thead>\n",
        "    <tr style=\"text-align: right;\">\n",
        "      <th></th>\n",
        "      <th>Compound ID</th>\n",
        "      <th>p_value</th>\n",
        "      <th>Compounds with substr.</th>\n",
        "      <th>activity label</th>\n",
        "      <th>Substructure</th>\n",
        "      <th>Substructure in Molecule</th>\n",
        "      <th>Comp. with substr. active</th>\n",
        "      <th>Comp. with substr. inactive</th>\n",
        "    </tr>\n",
        "  </thead>\n",
        "  <tbody>\n",
        "    <tr>\n",
        "      <th>0</th>\n",
        "      <td>   2475-33-4</td>\n",
        "      <td> 0.000053</td>\n",
        "      <td>  92</td>\n",
        "      <td> 0</td>\n",
        "      <td>                                                                                                             <img src=\"data:image/png;base64,iVBORw0KGgoAAAANSUhEUgAAASwAAAEsCAIAAAD2HxkiAAAExUlEQVR4nO3dW3LiOABAUTQ1O+r9LyFr8nzQlZ5+VAJp4yvZ53xDcBFuSbKwGdu23YDOP/UBwNWJEGIihJgIISZCiIkQYiKEmAghJkKIiRBiIoSYCCEmQoiJEGIihJgIISZCiIkQYiKEmAghJkKIiRBiIoSYCCEmQoiJEGIihJgIISZCiIkQYiKEmAghJkKIiRBiIoSYCCEmQoiJEGIihJgIISZCiIkQYiKEmAghJkKIiRBiIoSYCCEmQoiJEGIihJgIISZCiIkQYiKEmAghJkKIiRBiIoSYCCEmQoiJEGIihJgIISZCiIkQYiKEmAghJkKIiRBiIoSYCCEmQoiJEGIihJgIISZCiIkQYiKEmAghJkKIiRBiIoSYCCEmQoiJEGIihJgIISZCiIkQYiKEmAghJkKIiRBiIoSYCCEmQoiJEGIihJgIISZCiIkQYiKEmAghJkKIiRBiIoSYCCEmQoiJEGIihJgIISZCiIkQYiKEmAghJkKIiRBiIjyVMUZ9CDzt3/oA2Mc9v23b6gPhaSI8gzGG/NZlOnoGClyaCBdmBXgOIlzSGOPBKahQ52dNuJjHT8A4VbMKC/oTkt9aTEfX8Pis8j5NVeBCTEdnZ/55eiKcl/wuwppweXbqV2ckXJgB8BxEuCT5nYkIFyO/8xHhSiz/TkmEazAAnpgIZye/0xPh1Mw/r8DX1iAmwlm45uiyRAgxEUJMhBATIcREOAtbEZclQoiJEGIinIV9wssSIcRECDERQkyEEBPhLOwTXpYIISZCiIlwFvYJL0uEEBMhxEQIMRFCTISzsE94WSKEmAj5nO2Tl3IH7km93/2+vQ2+m/AfwF3WZ/T73e+Pj0F+hxHhXD7+6B/z0xTyO5jp6ETG2yeNHTA79RM0x/OOT2G8jdvttn179H/xihQNgBURxp7N76fn7jRqya8lwszf5Pfjj/xdP/KbgQgb4218mt/jA90XWnrqKVp9KRFO7UWpvDRvniXCBTy19vv4wc9W7eNxAO/y/u6Lvbv3Oecj88/dDuBPpRnTpmWfcGe/xLZ7e4+MTvcHfO2Lb1o9ngj39Htyu49+j0f1nqL8JifC9TxVl+Xf/FzKtKp9m1FgSIRn8LXr/cYYLhScgenoGTj7sjQj4Z62b9v/9yduP29XvPalt+09xY/dl38KnIeRcGe/dHjY3uD3l9vvVA2HcU4MYqajEBMhxEQIMRFCTIQQEyHERAgxEUJMhBATIcRECDERQkyEEBMhxEQIMRFCTIQQEyHERAgxEUJMhBATIcRECDERQkyEEBMhxEQIMRFCTIQQEyHERAgxEUJMhBATIcRECDERQkyEEBMhxEQIMRFCTIQQEyHERAgxEUJMhBATIcRECDERQkyEEBMhxEQIMRFCTIQQEyHERAgxEUJMhBATIcRECDERQkyEEBMhxEQIMRFCTIQQEyHERAgxEUJMhBATIcRECDERQkyEEBMhxEQIMRFCTIQQEyHERAgxEUJMhBATIcRECDERQkyEEBMhxEQIMRFCTIQQEyHERAgxEUJMhBATIcRECDERQkyEEBMhxEQIMRFCTIQQEyHERAgxEUJMhBATIcRECDERQkyEEBMhxEQIMRFCTIQQEyHERAgxEUJMhBD7D7MPRkVMBCcxAAAAAElFTkSuQmCC\" alt=\"Mol\"/></td>\n",
        "      <td>                                                                 <img src=\"data:image/png;base64,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\" alt=\"Mol\"/></td>\n",
        "      <td>  30</td>\n",
        "      <td>  62</td>\n",
        "    </tr>\n",
        "    <tr>\n",
        "      <th>1</th>\n",
        "      <td>   2475-33-4</td>\n",
        "      <td> 0.000006</td>\n",
        "      <td> 202</td>\n",
        "      <td> 0</td>\n",
        "      <td>                                                                                     <img src=\"data:image/png;base64,iVBORw0KGgoAAAANSUhEUgAAASwAAAEsCAIAAAD2HxkiAAAE1UlEQVR4nO3dQVLbMABA0bjTG3H/I3Amd5EOLYUpTnD8Jee9JeOAJ+YjycqYZV3XC9D5UZ8APDsRQkyEEBMhxEQIMRFCTIQQEyHERAgxEUJMhBATIcRECDERQkyEEBMhxEQIMRFCTIQQEyHERAgxEUJMhBATIcRECDERQkyEEBMhxEQIMRFCTIQQEyHERAgxEUJMhBATIcRECDERQkyEEBMhxEQIMRFCTIQQEyHERAgxEUJMhBATIcRECDERQkyEEBMhxEQIMRFCTIQQEyHERAgxEUJMhBATIcRECDERQkyEEBMhxEQIMRFCTIQQEyHERAgxEUJMhBATIcRECDERQkyEEBMhxEQIMRFCTIQQEyHERAgxEUJMhBATIcRECDERQkyEEBMhxEQIMRFCTIQQEyHERAgxEUJMhBATIcRECDERQkyEEBMhxEQIMRFCTIQQEyHERAgxEUJMhBATIcRECDERQkyEEBMhxEQIMRFCTIQQEyHERAgxEUJMhKeyLMuOh3GMZV3X+hzYwbWr7Vfz1uN5HBGewbLceR3vfiE7cg0gZk04sX2XdhaKFRFOaVmWjTPJ7Wmt63r9tt87NW5mOjqZ7TdU3o68456N34ojebtP6NPq3A4dlunoHLbPEq/j2MfYrl+8dcJpdnoAI+Ho7ph/bjnSjuI4RDiuR+R390ssFB/HOzu97+RhlBuBCCe2V0JSbIlwSo/IRooVEU7m0alY+x3POz6TYwoxJB5MhHM4PgwpHkaEo2tjkOIBRDi0QVZog5zGWfnYGl9T4EOJcBQ+pfm0RAgxEUJMhBATIcREOAp3IJ+WCCEmQoiJcBT2CZ+WCCEmQoiJEGIihJgIR2Gf8GmJEGIihJgIR2Gf8GmJEGIihJgIISZCiIlwFPYJn5YIISZCiP2sT4DPvT1/3oPoT8/jzUf08bHzUjwxEY7l/7H5nxCnZDo6kOX1i8bMTk/JX9YhLK/L5XJZX7ZeCymeiQhjt+b37rVmp6fgKma+k9+fb2JInJ8IG8vr8mV+2wc6KU5NhEO7qS4pTkqEE7hp7WehOB0XbH/Xxd7V25xzy/xztxMwJE7FPuHO/olt9/a2DHTXA6Q4Cx/g3tPH5HYf/a779VseSLOu69vmPiMT4XxuqstIOD4RzkpdpyHCMzDnnJoIz2D7QpEBiXBP68v69/7E5f12xWN/tNsw07JFsbN/Ojxsb/D3j7NQnJDNeoiZjkJMhBATIcRECDERQkyEEBMhxEQIMRFCTIQQEyHERAgxEUJMhBATIcRECDERQkyEEBMhxEQIMRFCTIQQEyHERAgxEUJMhBATIcRECDERQkyEEBMhxEQIMRFCTIQQEyHERAgxEUJMhBATIcRECDERQkyEEBMhxEQIMRFCTIQQEyHERAgxEUJMhBATIcRECDERQkyEEBMhxEQIMRFCTIQQEyHERAgxEUJMhBATIcRECDERQkyEEBMhxEQIMRFCTIQQEyHERAgxEUJMhBATIcRECDERQkyEEBMhxEQIMRFCTIQQEyHERAgxEUJMhBATIcRECDERQkyEEBMhxEQIMRFCTIQQEyHERAgxEUJMhBATIcRECDERQkyEEBMhxEQIMRFCTIQQEyHERAgxEUJMhBATIcRECDERQkyEEBMhxEQIMRFC7BcsJF4LEzWiagAAAABJRU5ErkJggg==\" alt=\"Mol\"/></td>\n",
        "      <td>                                                                 <img src=\"data:image/png;base64,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\" alt=\"Mol\"/></td>\n",
        "      <td>  76</td>\n",
        "      <td> 126</td>\n",
        "    </tr>\n",
        "    <tr>\n",
        "      <th>2</th>\n",
        "      <td> 105149-00-6</td>\n",
        "      <td> 0.023282</td>\n",
        "      <td> 174</td>\n",
        "      <td> 0</td>\n",
        "      <td>                                                                                                                                                                                                                                                                                                 <img src=\"data:image/png;base64,iVBORw0KGgoAAAANSUhEUgAAASwAAAEsCAIAAAD2HxkiAAAEPklEQVR4nO3cwXKbMBRA0dD//2e6SJdtirHQfZmcs8YejeGOBLJ9nOf5AXR+1QOAn06EEBMhxEQIMRFCTIQQEyHERAgxEUJMhBATIcRECDERQkyEEBMhxEQIMRFCTIQQEyHERAgxEUJMhBATIcRECDERQkyEEBMhxEQIMRFCTIQQEyHERAgxEUJMhBATIcRECDERQkyEEBMhxEQIMRFCTIQQEyHERAgxEUJMhBATIcRECDERQkyEEBMhxEQIMRFCTIQQEyHERAgxEUJMhBATIcRECDERQkyEEBMhxEQIMRFCTIQQEyHERAgxEUJMhBATIcRECDERQkyEEBMhxEQIMRFCTIQQEyHERAgxEUJMhBATIcRECDERQkyEEBMhxEQIMRFCTIQQEyHERAgxEUJMhBATIcRECDERQkyEEBMhxEQIMRFCTIQQEyHERAgxEUJMhBATIcRECDERQkyEEBMhxEQIMRFCTIQQEyHERAgxEUJMhBATIcRECDERQkyEEBMhxEQIMREOchzHwsP4Lo7zPOsx8Ker6+fi1eOZTIS947h5Fm6/kFGcRYi5J2wsv69zo/h9iXC34ziuLyOvp3We5+c7vzG0BcPgBsvRrV7N7zOtjxef2Sw8p54AbSDCcf563e+PQX7biHCHlybAL47cNit67rqTz/pZ17N56cjndhRNgPuJ8ClP5Hf7JVe6lV9FhLF3Fn4Ls7H+DPnoM6sSevN9TIA5EQaeuO43rGl5iAi3evq6v7iqlN8oItxnz33XfwNz+zeN87HDkK12E+BMInxWe93f/u4bO4nwQUMWfkOGwb/4FQXERAgxEa4x4Rd3E8bADSKEmAghJkKIiRBiIlxjwkbchDFwgwghJkKIiXCNCXt0E8bADSKEmAghJkKIiRBiIlxjwh7dhDFwgwghJkKIiXCNCXt0E8bADSKEmAghJkKIiRBiIlxjwh7dhDFwgwghJkKI+YN0iJkJISZCiIkQYiKEmAghJkKIiRBiIoSYCCEmQoiJEGIihJgIISZCiIkQYiKEmAghJkKIiRBiIoSYCCEmQoiJEGIihJgIISZCiIkQYiKEmAghJkKIiRBiIoSYCCEmQoiJEGIihJgIISZCiIkQYiKEmAghJkKIiRBiIoSYCCEmQoiJEGIihJgIISZCiIkQYiKEmAghJkKIiRBiIoSYCCEmQoiJEGIihJgIISZCiIkQYiKEmAghJkKIiRBiIoSYCCEmQoiJEGIihJgIISZCiIkQYiKEmAghJkKIiRBiIoSYCCEmQoiJEGIihJgIISZCiIkQYiKEmAghJkKIiRBiIoSYCCEmQoiJEGIihJgIISZCiIkQYiKEmAghJkKIiRBiIoSYCCEmQoiJEGIihJgIISZCiIkQYiKEmAghJkKIiRBiIoSYCCEmQoiJEGIihJgIISZCiIkQYiKEmAghJkKIiRBiIoSYCCH2G0iT5iloqwZdAAAAAElFTkSuQmCC\" alt=\"Mol\"/></td>\n",
        "      <td> <img src=\"data:image/png;base64,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\" alt=\"Mol\"/></td>\n",
        "      <td>  79</td>\n",
        "      <td>  95</td>\n",
        "    </tr>\n",
        "    <tr>\n",
        "      <th>3</th>\n",
        "      <td> 105149-00-6</td>\n",
        "      <td> 0.012877</td>\n",
        "      <td>  45</td>\n",
        "      <td> 0</td>\n",
        "      <td>                                                                                                                                                                     <img src=\"data:image/png;base64,iVBORw0KGgoAAAANSUhEUgAAASwAAAEsCAIAAAD2HxkiAAAEmUlEQVR4nO3d0W7aQBRAwbjK///y9iFS2pI0AYJ9rvCM8hKEsAUc7dqLYVtrvQCdX/UOwNmJEGIihJgIISZCiIkQYiKEmAghJkKIiRBiIoSYCCEmQoiJEGIihJgIISZCiIkQYiKEmAghJkKIiRBiIoSYCCEmQoiJEGIihJgIISZCiIkQYiKEmAghJkKIiRBiIoSYCCEmQoiJEGIihJgIISZCiIkQYiKEmAghJkKIiRBiIoSYCCEmQoiJEGIihJgIISZCiIkQYiKEmAghJkKIiRBiIoSYCCEmQoiJEGIihJgIISZCiIkQYiKEmAghJkKIiRBiIoSYCCEmQoiJEGIihJgIISZCiIkQYiKEmAghJkKIiRBiIoSYCCEmQoiJEGIihJgIISZCiIkQYiKEmAghJkKIiRBiIoSYCCEmQoiJEGIihJgIISZCiIkQYiKEmAghJkKIiRBiIoSYCCEmQoiJEGIihJgIISZCiIkQYiKEmAif2rb9+bu4/eM9ibzWO8Butu1lrf/+yxhGwif1Mbm1DHcziRBipqNnZVQcQ4RndTFZ1WTHdBRiInxSH0/DODs6leno87roUIFTbctrAynTUYiJEGIiPAHLD7OJEGIihJgIISZCiIkQYiKEmAghJsLnZ5VwOBFCTIRH23x+hX+J8GhrrW3bpMg7EQbWWm8pHrZFzU8mwsyRV3IaficT4QgH5PE+/EpxGhHu6Pq3+2F5SHEgX2+xr7f3+vVP8rY98hX5euvbtq0X3z3TE+ERbk3x0C2+DYneBh0RHufWUe6+UfHv/G54BCl2RHioO2ant97/4s63PYIUCyIM7HGg+O3h3w1b9DXBxxJh5lEHitc/zvGHplxDhLGfnA69MyoD3TAi7N3R0k/HNMd+k4hwiptmlY951QyJM4hwlq8De/xBnQ4HEOE4n5a24zmVr6emftdpfyIc6r26g05pfjokXtxo2NyHCEd77EdJb93291nyCK6igJgIp3Bt0WmJEGIihJgI+Y+1Ln9d1FmZfbzWO8BgFx0qcB8inGLoWtHMvXoupqMQEyHERDiFdcLTEiHERAgxEUJMhBAT4RRD1wnZnwghJkKIiXAK64SnJUKIiRBiIoSYCCEmwimsE56WCCEmQoiJcDRz1DMQIcRECDERQkyEEBMhxEQIMRFCTIQQEyHERAgxEUJMhBATIcRECDERQkyEEBMhxEQIMRFCTIQQEyHERAgxEUJMhBATIcRECDERQkyEEBMhxEQIMRFCTIQQEyHERAgxEUJMhBATIcRECDERQkyEEBMhxEQIMRFCTIQQEyHERAgxEUJMhBATIcRECDERQkyEEBMhxEQIMRFCTIQQEyHERAgxEUJMhBATIcRECDERQkyEEBMhxEQIMRFCTIQQEyHERAgxEUJMhBATIcRECDERQkyEEBMhxEQIMRFCTIQQEyHERAgxEUJMhBATIcRECDERQkyEEBMhxEQIMRFCTIQQEyHERAgxEUJMhBATIcRECDERQkyEEBMhxEQIMRFCTIQQEyHERAgxEUJMhBATIcRECDERQkyEEBMhxEQIMRFCTIQQEyHEfgN/1vlAAet8GQAAAABJRU5ErkJggg==\" alt=\"Mol\"/></td>\n",
        "      <td> <img src=\"data:image/png;base64,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\" alt=\"Mol\"/></td>\n",
        "      <td>  16</td>\n",
        "      <td>  29</td>\n",
        "    </tr>\n",
        "    <tr>\n",
        "      <th>4</th>\n",
        "      <td> 105149-00-6</td>\n",
        "      <td> 0.011406</td>\n",
        "      <td>  27</td>\n",
        "      <td> 0</td>\n",
        "      <td> <img src=\"data:image/png;base64,iVBORw0KGgoAAAANSUhEUgAAASwAAAEsCAIAAAD2HxkiAAAFFElEQVR4nO3dy46bWhRAQXOV//9l7sCDSHa3YvM4i0eVMknkDijx0j6AwdM8zw+g81+9A3B3IoSYCCEmQoiJEGIihJgIISZCiIkQYiKEmAghJkKIiRBiIoSYCCEmQoiJEGIihJgIISZCiIkQYiKEmAghJkKIiRBiIoSYCCEmQoiJEGIihJgIISZCiIkQYiKEmAghJkKIiRBiIoSYCCEmQoiJEGIihJgIISZCiIkQYiKEmAghJkKIiRBiIoSYCCEmQoiJEGIihJgIISZCiIkQYiKEmAghJkKIiRBiIoSYCCEmQoiJEGIihJgIISZCiIkQYiKEmAghJkKIiRBiIoSYCCEmQoiJEGIihJgIISZCiIkQYiKEmAghJkKIiRBiIoSYCCEmQoiJEGIihJgIISZCiIkQYiKEmAghJkKIiRBiIoSYCCEmQoiJEGIihJgIISZCiIkQYiKEmAghJkKIiRBiIry3afr76+XP31/JPv7UO0Bnmh7z/OtvGcUkvKv35ObZuEuIEGKWo/zCVBxFhPziZbGqyd1YjkJMhHf1fhrG2dGI5eiNvXSowMg0+6eHlOUoxER4e0571kQIMRFCTIQQEyHERAgxEUJMhBATIcREeHcu1edEOM7ksyn8RIQjTNM0TZ9+Vl6rdyPC3T3z+/xulXmen9HuulcvlB9yK9NxfT48N9nQs0Pvh/FMwuMa3MNzXBuJ44lwF5u/lYe1kSyGb87jLTb21aLu8wXnyOXicxNWp8M4JtzSt6dAF6S17YHiv7fu6U/7E+FoP77vx4+dL7b4XJp6n+xGhGstmH6LX7D4xb/94BdzVYq7EeFyn2ewX13rX/xdzFLcgQgX+nCGbDKv1u/MtkPYgeK2RLij9SdRNvkbHvsvcVlDhLvY8N08Zpa+/KRBN5IIN7bTMBk90Bz7DSTCzQxYy218aPfB9h4PKe5OhBsYfCg1+kqjFHcmwlXCMxmLP3OzeHs/d+h7nVYT4XLDbjU67j68lOmMziLuolguLzD2ntz7F4/yARFCTISn4R6/qxIhxEQIMRGy1PtpGGdHF/F4C1Z46VCBi4jwNA56ReSYe3UqlqMQEyHERHgarhNelQghJkKIiRBiIoSYCE/joNcJWU2EEBMhxER4Gq4TXpUIISZCiIkQYiKEmAhPw3XCqxIhxEQIMY+3OCtf6HkZIjwf+V2MCE/mCN9Cw7ZEeBoG4FWJ8ATkd20iPDT53YEIj8vh302I8Ii+GoCm5dmJ8Fjkd0MiPJCv1p8Wq5fhP/IQzLQ7Mwlj1p+IsPT5klJ+F2Y5egIO/67NrUwnoMBrE+FBTdPkGYc34ZjwcBz+3Y0Ij8Xh3w1Zjh6LAm9IhBATIcRECDERQkyEEBMhxEQIMRFCTIQQEyHERAgxEUJMhBATIcRECDERQkyEEBMhxEQIMRFCTIQQEyHERAgxEUJMhBATIcRECDERQkyEEBMhxEQIMRFCTIQQEyHERAgxEUJMhBATIcRECDERQkyEEBMhxEQIMRFCTIQQEyHERAgxEUJMhBATIcRECDERQkyEEBMhxEQIMRFCTIQQEyHERAgxEUJMhBATIcRECDERQkyEEBMhxEQIMRFCTIQQEyHERAgxEUJMhBATIcRECDERQkyEEBMhxEQIMRFCTIQQEyHERAgxEUJMhBATIcRECDERQkyEEBMhxEQIMRFCTIQQEyHERAgxEUJMhBATIcRECDERQkyEEBMhxEQIMRFCTIQQ+x+2boBfwIcGhQAAAABJRU5ErkJggg==\" alt=\"Mol\"/></td>\n",
        "      <td> <img src=\"data:image/png;base64,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\" alt=\"Mol\"/></td>\n",
        "      <td>   8</td>\n",
        "      <td>  19</td>\n",
        "    </tr>\n",
        "    <tr>\n",
        "      <th>5</th>\n",
        "      <td>    108-78-1</td>\n",
        "      <td> 0.000037</td>\n",
        "      <td> 168</td>\n",
        "      <td> 1</td>\n",
        "      <td>                                                                                                                                                                                                         <img src=\"data:image/png;base64,iVBORw0KGgoAAAANSUhEUgAAASwAAAEsCAIAAAD2HxkiAAAEgElEQVR4nO3c0W6bMABA0TDt/3+ZPTBNU5puQAzXVc95rAixRK5sB5plXdcH0PlRDwC+OxFCTIQQEyHERAgxEUJMhBATIcRECDERQkyEEBMhxEQIMRFCTIQQEyHERAgxEUJMhBATIcRECDERQkyEEBMhxEQIMRFCTIQQEyHERAgxEUJMhBATIcRECDERQkyEEBMhxEQIMRFCTIQQEyHERAgxEUJMhBATIcRECDERQkyEEBMhxEQIMRFCTIQQEyHERAgxEUJMhBATIcRECDERQkyEEBMhxEQIMRFCTIQQEyHERAgxEUJMhBATIcRECDERQkyEEBMhxEQIMRFCTIQQEyHERAgxEUJMhBATIcRECDERQkyEEBMhxEQIMRFCTIQQEyHERAgxEUJMhBATIcRECDERQkyEEBMhxEQIMRFCTIQQEyHERAgxEUJMhBATIcRECDERQkyEEBMhxEQIMRFCTIQQEyHERAgxEUJMhBATIcRECDERQkyEEBMhxEQIMRFCTIQQEyHERDiRZVkGHsZXsazrWo+B313tvxZHj2dmIuwty8mrcPqFTMVVhJg9YWP4vu6KjeLHU9qNXkGEd1uWZf8ycn9a67puZ35jaC8HMPZ8vPCzHsD3cjS/La3Hvu9gtmPGbhTX9bEsD1uWS4nwVnvyeKruT1o7X26T/+VYjt5h/ypxm8c+hrT98eiCc8jqdJsMuY6Z8Fr7Z7A9Rx5dcB5azf7zPBalFxLhVcbm97frNopKS7hPGHvne5SBz81sC86nMz01+fIY3mcmzLyf0NHvbD4ZxnaqPW9nc3gJM2Hgiic/T5zTzDYJEd7q6gevD92HdOkn4Urc557P/X879x8YsxHhHe7/3L98R/nNSYTXaj/3J559434ivNAk+65JhsFnPLYGMRFCTIRjzPDjSzOMgRNECDERQkyEEBMhxEQ4xgw34mYYAyeIEGIihJgIx5jhHt0MY+AEEUJMhBATIcRECDERjjHDPboZxsAJIoSYCCEmwjFmuEc3wxg4QYQQEyHERAgxEUJMhGPMcI9uhjFwggghJkKI+YF0iJkJISZCiIkQYiKEmAghJkKIiRBiIoSYCCEmQoiJEGIihJgIISZCiIkQYiKEmAghJkKIiRBiIoSYCCEmQoiJEGIihJgIISZCiIkQYiKEmAghJkKIiRBiIoSYCCEmQoiJEGIihJgIISZCiIkQYiKEmAghJkKIiRBiIoSYCCEmQoiJEGIihJgIISZCiIkQYiKEmAghJkKIiRBiIoSYCCEmQoiJEGIihJgIISZCiIkQYiKEmAghJkKIiRBiIoSYCCEmQoiJEGIihJgIISZCiIkQYiKEmAghJkKIiRBiIoSYCCEmQoiJEGIihJgIISZCiIkQYiKEmAghJkKIiRBiIoSYCCEmQoiJEGIihJgIISZCiIkQYiKEmAghJkKIiRBiIoSYCCEmQoiJEGIihJgIISZCiIkQYiKEmAghJkKIiRBiIoSYCCEmQoiJEGIihJgIISZCiIkQYiKEmAghJkKIiRBiIoSYCCH2CzHd7zK6v8MSAAAAAElFTkSuQmCC\" alt=\"Mol\"/></td>\n",
        "      <td>                                                                                                                                                                                                                                 <img src=\"data:image/png;base64,iVBORw0KGgoAAAANSUhEUgAAASwAAAEsCAIAAAD2HxkiAAAFNklEQVR4nO3d2Y7aSABAURjN//+y5wENiWiapWxzbXzOUysijtX4psr7eZqmE9D5p14BODoRQkyEEBMhxEQIMRFCTIQQEyHERAgxEUJMhBATIcRECDERQkyEEBMhxEQIMRFCTIQQEyHERAgxEUJMhBATIcRECDERQkyEEBMhxEQIMRFCTIQQEyHERAgxEUJMhBATIcRECDERQkyEEBMhxEQIMRFCTIQQEyHERAgxEUJMhBATIcRECDERQkyEEBMhxEQIMRFCTIQQEyHERAgxEUJMhBATIcRECDERQkyEEBMhxEQIMRFCTIQQEyHERAgxEUJMhBATIcRECDERQkyEEBMhxEQIMRFCTIQQEyHERAgxEUJMhBATIcRECDERQkyEEBMhxEQIMRFCTIQQEyHERAgxEUJMhBATIcRECDERQkyELOB8PtersGMihJgIISZCiIkQYiKEmAghJkKIiZBFTPUK7JgIISZCiIkQYiKEmAghJkKIiRBiImQBk9OEM4gQYiKEmAghJkKIiRBiIoSYCBn380GHHn04QITMorr5RLhv+VN3p0mHc/1brwCDLvlN03T9oV4jBolwf26qu/wQpngZDP0nMEyEO3M+n++W1qaowznsE+7G+Xz+rcCraZquE9R11mGtDx+ZkXAH3h3f1thRvBT1YHk/j9Bc/8QI+ZgIt+7p6HfXsrPTF6eadzt8/a8f1sgXzGcsl9Cs5SySkA4fEOEWvZjNW4PkQIrLTiZNTX8jwm15N5WBz7/44bFpcLXYXfMb2ZDhDfStFJ9+eO3zHK4uuCHCTVhku5yf4ifzkOKVCGMrnEsYSbFKQoonEbbW20F695hNuxkcPEXnCb/Tvi7s3sVKrsdla1u0yHVn10vY8tudeMxI+OXyeyx4SoSHIMUtMx09kLXvsWCMCA/HSLg1IoSYCCEmQoiJEGIihJgIISZCiIkQYiKEmAghJkKIiRBiIoSYCA/HrUxb46beA3FT7zaJ8BDkt2Ui/HLy2z4RbtEizchvL44b4Xdvo/nzfHnd0b+q/PHvG3kM/lL/OgOOHuHFh7fFn8PURl4IQ0KEf3xmu3wwUdzIq9H4MBHeWvUlLadnW/92XhLKx/hK7ljjxc5vvbR9I6/L5jNE+Ku3snm8nNNQ0kuNWvLbOBE+MrPD+SPqzH7ktwsifGIspGUntAMtyW9HRPiSN/foFt6f/H+xr3bl6Mu++LZ25nFgBsA9EuHbfg50Kw19v6/AndLkt1/HvXZ0jg9Xd+PmjZ/y2zsRjpimuMPTXynKb+883mLfFPgFRDjoMhjCfCIcp0MWIUKIiXAWgyHziXAuR0aYyQFuiBkJISZCiIlwnEMyLEKEEBMhxEQIMRFCTIQQEyHERAgxEc7hRCELECHERAgxEUJMhBATIcRECDERQkyE4zwZhEWIEGIihJgIISZCiIkQYiKEmAghJkKIiRBiIoSYCCEmQoiJEGIihJgIISZCiIkQYiKEmAghJkKIiRBiIoSYCCEmQoiJEGIihJgIISZCiIkQYiKEmAghJkKIiRBiIoSYCCEmQoiJEGIihJgIISZCiIkQYiKEmAghJkKIiRBiIoSYCCEmQoiJEGIihJgIISZCiIkQYiKEmAghJkKIiRBiIoSYCCEmQoiJEGIihJgIISZCiIkQYiKEmAghJkKIiRBiIoSYCCEmQoiJEGIihJgIISZCiIkQYiKEmAghJkKIiRBiIoSYCCEmQoiJEGIihJgIISZCiIkQYiKEmAghJkKIiRBiIoSYCCEmQoiJEGIihNh/cFXKEyjdGegAAAAASUVORK5CYII=\" alt=\"Mol\"/></td>\n",
        "      <td> 117</td>\n",
        "      <td>  51</td>\n",
        "    </tr>\n",
        "  </tbody>\n",
        "</table>\n",
        "</div>"
       ],
       "metadata": {},
       "output_type": "pyout",
       "prompt_number": 69,
       "text": [
        "   Compound ID   p_value  Compounds with substr.  activity label                                                                                                                                                                                                                                                                                                                                                                                                                                                                                                                                                                                                                                                                                                                                                                                                                                                                                                                                                                                                                                                                                                                                                                                                                                                                                                                                                                                                                                                                                                                                                                                                                                                                                                                                                                                                                                                                                                                       Substructure                                                                                                                                                                                                                                                                                                                                                                                                                                                                                                                                                                                                                                                                                                                                                                                                                                                                                                                                                                                                                                                                                                                                                                                                                                                                                                                                                                                                                                                                                                                                                                                                                                                                                                                                                                                                                                                                                                                                                                                                                                                                                                                                                                                       Substructure in Molecule  Comp. with substr. active  Comp. with substr. inactive\n",
        "0    2475-33-4  0.000053                      92               0                                                                                                              <img src=\"data:image/png;base64,iVBORw0KGgoAAAANSUhEUgAAASwAAAEsCAIAAAD2HxkiAAAExUlEQVR4nO3dW3LiOABAUTQ1O+r9LyFr8nzQlZ5+VAJp4yvZ53xDcBFuSbKwGdu23YDOP/UBwNWJEGIihJgIISZCiIkQYiKEmAghJkKIiRBiIoSYCCEmQoiJEGIihJgIISZCiIkQYiKEmAghJkKIiRBiIoSYCCEmQoiJEGIihJgIISZCiIkQYiKEmAghJkKIiRBiIoSYCCEmQoiJEGIihJgIISZCiIkQYiKEmAghJkKIiRBiIoSYCCEmQoiJEGIihJgIISZCiIkQYiKEmAghJkKIiRBiIoSYCCEmQoiJEGIihJgIISZCiIkQYiKEmAghJkKIiRBiIoSYCCEmQoiJEGIihJgIISZCiIkQYiKEmAghJkKIiRBiIoSYCCEmQoiJEGIihJgIISZCiIkQYiKEmAghJkKIiRBiIoSYCCEmQoiJEGIihJgIISZCiIkQYiKEmAghJkKIiRBiIoSYCCEmQoiJEGIihJgIISZCiIkQYiKEmAghJkKIiRBiIjyVMUZ9CDzt3/oA2Mc9v23b6gPhaSI8gzGG/NZlOnoGClyaCBdmBXgOIlzSGOPBKahQ52dNuJjHT8A4VbMKC/oTkt9aTEfX8Pis8j5NVeBCTEdnZ/55eiKcl/wuwppweXbqV2ckXJgB8BxEuCT5nYkIFyO/8xHhSiz/TkmEazAAnpgIZye/0xPh1Mw/r8DX1iAmwlm45uiyRAgxEUJMhBATIcREOAtbEZclQoiJEGIinIV9wssSIcRECDERQkyEEBPhLOwTXpYIISZCiIlwFvYJL0uEEBMhxEQIMRFCTISzsE94WSKEmAj5nO2Tl3IH7km93/2+vQ2+m/AfwF3WZ/T73e+Pj0F+hxHhXD7+6B/z0xTyO5jp6ETG2yeNHTA79RM0x/OOT2G8jdvttn179H/xihQNgBURxp7N76fn7jRqya8lwszf5Pfjj/xdP/KbgQgb4218mt/jA90XWnrqKVp9KRFO7UWpvDRvniXCBTy19vv4wc9W7eNxAO/y/u6Lvbv3Oecj88/dDuBPpRnTpmWfcGe/xLZ7e4+MTvcHfO2Lb1o9ngj39Htyu49+j0f1nqL8JifC9TxVl+Xf/FzKtKp9m1FgSIRn8LXr/cYYLhScgenoGTj7sjQj4Z62b9v/9yduP29XvPalt+09xY/dl38KnIeRcGe/dHjY3uD3l9vvVA2HcU4MYqajEBMhxEQIMRFCTIQQEyHERAgxEUJMhBATIcRECDERQkyEEBMhxEQIMRFCTIQQEyHERAgxEUJMhBATIcRECDERQkyEEBMhxEQIMRFCTIQQEyHERAgxEUJMhBATIcRECDERQkyEEBMhxEQIMRFCTIQQEyHERAgxEUJMhBATIcRECDERQkyEEBMhxEQIMRFCTIQQEyHERAgxEUJMhBATIcRECDERQkyEEBMhxEQIMRFCTIQQEyHERAgxEUJMhBATIcRECDERQkyEEBMhxEQIMRFCTIQQEyHERAgxEUJMhBATIcRECDERQkyEEBMhxEQIMRFCTIQQEyHERAgxEUJMhBATIcRECDERQkyEEBMhxEQIMRFCTIQQEyHERAgxEUJMhBATIcRECDERQkyEEBMhxEQIMRFCTIQQEyHERAgxEUJMhBD7D7MPRkVMBCcxAAAAAElFTkSuQmCC\" alt=\"Mol\"/>                                                                  <img src=\"data:image/png;base64,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\" alt=\"Mol\"/>                         30                           62\n",
        "1    2475-33-4  0.000006                     202               0                                                                                      <img src=\"data:image/png;base64,iVBORw0KGgoAAAANSUhEUgAAASwAAAEsCAIAAAD2HxkiAAAE1UlEQVR4nO3dQVLbMABA0bjTG3H/I3Amd5EOLYUpTnD8Jee9JeOAJ+YjycqYZV3XC9D5UZ8APDsRQkyEEBMhxEQIMRFCTIQQEyHERAgxEUJMhBATIcRECDERQkyEEBMhxEQIMRFCTIQQEyHERAgxEUJMhBATIcRECDERQkyEEBMhxEQIMRFCTIQQEyHERAgxEUJMhBATIcRECDERQkyEEBMhxEQIMRFCTIQQEyHERAgxEUJMhBATIcRECDERQkyEEBMhxEQIMRFCTIQQEyHERAgxEUJMhBATIcRECDERQkyEEBMhxEQIMRFCTIQQEyHERAgxEUJMhBATIcRECDERQkyEEBMhxEQIMRFCTIQQEyHERAgxEUJMhBATIcRECDERQkyEEBMhxEQIMRFCTIQQEyHERAgxEUJMhBATIcRECDERQkyEEBMhxEQIMRFCTIQQEyHERAgxEUJMhBATIcRECDERQkyEEBMhxEQIMRFCTIQQEyHERAgxEUJMhKeyLMuOh3GMZV3X+hzYwbWr7Vfz1uN5HBGewbLceR3vfiE7cg0gZk04sX2XdhaKFRFOaVmWjTPJ7Wmt63r9tt87NW5mOjqZ7TdU3o68456N34ojebtP6NPq3A4dlunoHLbPEq/j2MfYrl+8dcJpdnoAI+Ho7ph/bjnSjuI4RDiuR+R390ssFB/HOzu97+RhlBuBCCe2V0JSbIlwSo/IRooVEU7m0alY+x3POz6TYwoxJB5MhHM4PgwpHkaEo2tjkOIBRDi0QVZog5zGWfnYGl9T4EOJcBQ+pfm0RAgxEUJMhBATIcREOAp3IJ+WCCEmQoiJcBT2CZ+WCCEmQoiJEGIihJgIR2Gf8GmJEGIihJgIR2Gf8GmJEGIihJgIISZCiIlwFPYJn5YIISZCiP2sT4DPvT1/3oPoT8/jzUf08bHzUjwxEY7l/7H5nxCnZDo6kOX1i8bMTk/JX9YhLK/L5XJZX7ZeCymeiQhjt+b37rVmp6fgKma+k9+fb2JInJ8IG8vr8mV+2wc6KU5NhEO7qS4pTkqEE7hp7WehOB0XbH/Xxd7V25xzy/xztxMwJE7FPuHO/olt9/a2DHTXA6Q4Cx/g3tPH5HYf/a779VseSLOu69vmPiMT4XxuqstIOD4RzkpdpyHCMzDnnJoIz2D7QpEBiXBP68v69/7E5f12xWN/tNsw07JFsbN/Ojxsb/D3j7NQnJDNeoiZjkJMhBATIcRECDERQkyEEBMhxEQIMRFCTIQQEyHERAgxEUJMhBATIcRECDERQkyEEBMhxEQIMRFCTIQQEyHERAgxEUJMhBATIcRECDERQkyEEBMhxEQIMRFCTIQQEyHERAgxEUJMhBATIcRECDERQkyEEBMhxEQIMRFCTIQQEyHERAgxEUJMhBATIcRECDERQkyEEBMhxEQIMRFCTIQQEyHERAgxEUJMhBATIcRECDERQkyEEBMhxEQIMRFCTIQQEyHERAgxEUJMhBATIcRECDERQkyEEBMhxEQIMRFCTIQQEyHERAgxEUJMhBATIcRECDERQkyEEBMhxEQIMRFCTIQQEyHERAgxEUJMhBATIcRECDERQkyEEBMhxEQIMRFCTIQQEyHERAgxEUJMhBATIcRECDERQkyEEBMhxEQIMRFC7BcsJF4LEzWiagAAAABJRU5ErkJggg==\" alt=\"Mol\"/>                                                                  <img src=\"data:image/png;base64,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\" alt=\"Mol\"/>                         76                          126\n",
        "2  105149-00-6  0.023282                     174               0                                                                                                                                                                                                                                                                                                  <img src=\"data:image/png;base64,iVBORw0KGgoAAAANSUhEUgAAASwAAAEsCAIAAAD2HxkiAAAEPklEQVR4nO3cwXKbMBRA0dD//2e6SJdtirHQfZmcs8YejeGOBLJ9nOf5AXR+1QOAn06EEBMhxEQIMRFCTIQQEyHERAgxEUJMhBATIcRECDERQkyEEBMhxEQIMRFCTIQQEyHERAgxEUJMhBATIcRECDERQkyEEBMhxEQIMRFCTIQQEyHERAgxEUJMhBATIcRECDERQkyEEBMhxEQIMRFCTIQQEyHERAgxEUJMhBATIcRECDERQkyEEBMhxEQIMRFCTIQQEyHERAgxEUJMhBATIcRECDERQkyEEBMhxEQIMRFCTIQQEyHERAgxEUJMhBATIcRECDERQkyEEBMhxEQIMRFCTIQQEyHERAgxEUJMhBATIcRECDERQkyEEBMhxEQIMRFCTIQQEyHERAgxEUJMhBATIcRECDERQkyEEBMhxEQIMRFCTIQQEyHERAgxEUJMhBATIcRECDERQkyEEBMhxEQIMRFCTIQQEyHERAgxEUJMhBATIcRECDERQkyEEBMhxEQIMREOchzHwsP4Lo7zPOsx8Ker6+fi1eOZTIS947h5Fm6/kFGcRYi5J2wsv69zo/h9iXC34ziuLyOvp3We5+c7vzG0BcPgBsvRrV7N7zOtjxef2Sw8p54AbSDCcf563e+PQX7biHCHlybAL47cNit67rqTz/pZ17N56cjndhRNgPuJ8ClP5Hf7JVe6lV9FhLF3Fn4Ls7H+DPnoM6sSevN9TIA5EQaeuO43rGl5iAi3evq6v7iqlN8oItxnz33XfwNz+zeN87HDkK12E+BMInxWe93f/u4bO4nwQUMWfkOGwb/4FQXERAgxEa4x4Rd3E8bADSKEmAghJkKIiRBiIlxjwkbchDFwgwghJkKIiXCNCXt0E8bADSKEmAghJkKIiRBiIlxjwh7dhDFwgwghJkKIiXCNCXt0E8bADSKEmAghJkKIiRBiIlxjwh7dhDFwgwghJkKI+YN0iJkJISZCiIkQYiKEmAghJkKIiRBiIoSYCCEmQoiJEGIihJgIISZCiIkQYiKEmAghJkKIiRBiIoSYCCEmQoiJEGIihJgIISZCiIkQYiKEmAghJkKIiRBiIoSYCCEmQoiJEGIihJgIISZCiIkQYiKEmAghJkKIiRBiIoSYCCEmQoiJEGIihJgIISZCiIkQYiKEmAghJkKIiRBiIoSYCCEmQoiJEGIihJgIISZCiIkQYiKEmAghJkKIiRBiIoSYCCEmQoiJEGIihJgIISZCiIkQYiKEmAghJkKIiRBiIoSYCCEmQoiJEGIihJgIISZCiIkQYiKEmAghJkKIiRBiIoSYCCEmQoiJEGIihJgIISZCiIkQYiKEmAghJkKIiRBiIoSYCCEmQoiJEGIihJgIISZCiIkQYiKEmAghJkKIiRBiIoSYCCEmQoiJEGIihJgIISZCiIkQYiKEmAghJkKIiRBiIoSYCCH2G0iT5iloqwZdAAAAAElFTkSuQmCC\" alt=\"Mol\"/>  <img src=\"data:image/png;base64,iVBORw0KGgoAAAANSUhEUgAAASwAAAEsCAIAAAD2HxkiAAAF3UlEQVR4nO3d226bWABAUTOa//9l5iFq2rFjm6s3lLWUl0ZOjJqzdQ5gYBjH8QZ0/qk3AK5OhBATIcRECDERQkyEEBMhxEQIMRFCTIQQEyHERAgxEUJMhBATIcRECDERQkyEEBMhxEQIMRFCTIQQEyHERAgxEUJMhBATIcRECDERQkyEEBMhxEQIMRFCTIQQEyHERAgxEUJMhBATIcRECDERQkyEEBMhxEQIMRFCTIQQEyHERAgxEUJMhBATIcRECDERQkyEEBMhxEQIMRFCTIQQEyHERAgxEUJMhBATIcRECDERQkyEEBMhxEQIMRFCTIQQEyHERAgxEUJMhBATIcRECDERQkyEEBMhxEQIMRFCTIQQEyHERAgxEUJMhBATIcRECDERQkyEEBMhxEQIMRFCTIQQEyHERAgxEbLOMPz+uvv+4yv5yb/1BnBmw3Abx6f/ZBozIUs9JjeOprsFRAgxy1F2Y1acRoTs5m6xqsknLEchJkKWejwM4+joIpajrHDXoQIXGUb/cZCyHIWYCCEmQrbg9MMKIoSYCCEmQoiJEGIihJgIISZCiImQDThLuIYIISZCiIkQYiJkG4OPjy4lQrYxjuMwDFJcwJX1bObrAvGvDl0sPp2Z8NwOOPOM42hWnMXtLc7qe8JpZ57X7z4Mw3hz75k3RHg+P477z6c44x2/pkQj7QkRnswwvPqTfSzF7814vT13P3O7SfEHIjyN6YHNCGOLzZhXvhQfiPAEFsxve0yJb3f/Zryj2wT/QYRHt2Za2zDFiZvh/MQCIjyurQb0yt+z5MdNdHOI8IgmjvtZk+Sn17T2/SYT4bHMHfcLXv/RVaUUJxDhgSze/ZvVzNsXb39wVYovifAQNpl51qe472GVZzuKl3+ukwhjm4/7ZSlmRzXvyrzkER0RlvY7qz73mE0zDH5M7noduori7+Q6hhMR4RFtEo9Lis7CRb1/ORfaHp8IL0GKR2Y5eiHfC9R6Q34Zx/uni17vqMzNTHhBx5oJ7zo81LZ9igipXTK8P1mOQkyEEBMhxEQIMRFCTIQQEyHERAgxEUJMhBATIcRECDERXs6BLmXidru5iuJSXNR7TCK8BPkd2SUjvNJVpPI7vutFeIa7zW71MLOtfhW7uliEj8l93V7hrxup2f18me9iEU63c5n73X9+24fD8AEifOL7BkRbD9C7cb/hzQjld1IifO5rgG46JT5bJX6neIRHo/FhInxno53GKUN/wep0p4eE8knX+5MsOzq6Ymm633Oq935cNp9xvQhvK84Tzp8S18w8W81a8ju4S0a4wvQB/fljLTttA3sT4R8mT3SvB3d71mGnbWA/Ivy/Oft+jwN916E/axL2Zz0Rf62fzExx5QmGWV6/iwnwjET43OQUPzz0f3w7+Z2XCN95uaMYDv39PvjGh4nwvWej/Ai7XkfYBlbyiZn3jvys6aNtDwuIcKojp8ipudHTPId77DvnJ8IlzIRsSIQQEyHERAgxES5nv5BNiBBiIoSYCCEmQoiJEGIihJgIISbCFXyClC2IEGIihJgIISZCiIkQYiKEmAghJsKlhuH31933H18Jz7nl4SLLnjQKPzETzveY3NcjtWEREULMcnQHZkXmEOEO7harmuQly1GIiXC+x8Mwjo6yguXoIncdKpAVPGISYpajEBMhxEQIMRFCTIQQEyHERAgxEUJMhBATIcRECDERQkyEEBMhxEQIMRFCTIQQEyHERAgxEUJMhBATIcRECDERQkyEEBMhxEQIMRFCTIQQEyHERAgxEUJMhBATIcRECDERQkyEEBMhxEQIMRFCTIQQEyHERAgxEUJMhBATIcRECDERQkyEEBMhxEQIMRFCTIQQEyHERAgxEUJMhBATIcRECDERQkyEEBMhxEQIMRFCTIQQEyHERAgxEUJMhBATIcRECDERQkyEEBMhxEQIMRFCTIQQEyHERAgxEUJMhBATIcRECDERQkyEEBMhxEQIMRFCTIQQEyHERAix/wBwhEs399ppQQAAAABJRU5ErkJggg==\" alt=\"Mol\"/>                         79                           95\n",
        "3  105149-00-6  0.012877                      45               0                                                                                                                                                                      <img src=\"data:image/png;base64,iVBORw0KGgoAAAANSUhEUgAAASwAAAEsCAIAAAD2HxkiAAAEmUlEQVR4nO3d0W7aQBRAwbjK///y9iFS2pI0AYJ9rvCM8hKEsAUc7dqLYVtrvQCdX/UOwNmJEGIihJgIISZCiIkQYiKEmAghJkKIiRBiIoSYCCEmQoiJEGIihJgIISZCiIkQYiKEmAghJkKIiRBiIoSYCCEmQoiJEGIihJgIISZCiIkQYiKEmAghJkKIiRBiIoSYCCEmQoiJEGIihJgIISZCiIkQYiKEmAghJkKIiRBiIoSYCCEmQoiJEGIihJgIISZCiIkQYiKEmAghJkKIiRBiIoSYCCEmQoiJEGIihJgIISZCiIkQYiKEmAghJkKIiRBiIoSYCCEmQoiJEGIihJgIISZCiIkQYiKEmAghJkKIiRBiIoSYCCEmQoiJEGIihJgIISZCiIkQYiKEmAghJkKIiRBiIoSYCCEmQoiJEGIihJgIISZCiIkQYiKEmAghJkKIiRBiIoSYCCEmQoiJEGIihJgIISZCiIkQYiKEmAif2rb9+bu4/eM9ibzWO8Butu1lrf/+yxhGwif1Mbm1DHcziRBipqNnZVQcQ4RndTFZ1WTHdBRiInxSH0/DODs6leno87roUIFTbctrAynTUYiJEGIiPAHLD7OJEGIihJgIISZCiIkQYiKEmAghJsLnZ5VwOBFCTIRH23x+hX+J8GhrrW3bpMg7EQbWWm8pHrZFzU8mwsyRV3IaficT4QgH5PE+/EpxGhHu6Pq3+2F5SHEgX2+xr7f3+vVP8rY98hX5euvbtq0X3z3TE+ERbk3x0C2+DYneBh0RHufWUe6+UfHv/G54BCl2RHioO2ant97/4s63PYIUCyIM7HGg+O3h3w1b9DXBxxJh5lEHitc/zvGHplxDhLGfnA69MyoD3TAi7N3R0k/HNMd+k4hwiptmlY951QyJM4hwlq8De/xBnQ4HEOE4n5a24zmVr6emftdpfyIc6r26g05pfjokXtxo2NyHCEd77EdJb93291nyCK6igJgIp3Bt0WmJEGIihJgI+Y+1Ln9d1FmZfbzWO8BgFx0qcB8inGLoWtHMvXoupqMQEyHERDiFdcLTEiHERAgxEUJMhBAT4RRD1wnZnwghJkKIiXAK64SnJUKIiRBiIoSYCCEmwimsE56WCCEmQoiJcDRz1DMQIcRECDERQkyEEBMhxEQIMRFCTIQQEyHERAgxEUJMhBATIcRECDERQkyEEBMhxEQIMRFCTIQQEyHERAgxEUJMhBATIcRECDERQkyEEBMhxEQIMRFCTIQQEyHERAgxEUJMhBATIcRECDERQkyEEBMhxEQIMRFCTIQQEyHERAgxEUJMhBATIcRECDERQkyEEBMhxEQIMRFCTIQQEyHERAgxEUJMhBATIcRECDERQkyEEBMhxEQIMRFCTIQQEyHERAgxEUJMhBATIcRECDERQkyEEBMhxEQIMRFCTIQQEyHERAgxEUJMhBATIcRECDERQkyEEBMhxEQIMRFCTIQQEyHERAgxEUJMhBATIcRECDERQkyEEBMhxEQIMRFCTIQQEyHERAgxEUJMhBATIcRECDERQkyEEBMhxEQIMRFCTIQQEyHEfgN/1vlAAet8GQAAAABJRU5ErkJggg==\" alt=\"Mol\"/>  <img src=\"data:image/png;base64,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\" alt=\"Mol\"/>                         16                           29\n",
        "4  105149-00-6  0.011406                      27               0  <img src=\"data:image/png;base64,iVBORw0KGgoAAAANSUhEUgAAASwAAAEsCAIAAAD2HxkiAAAFFElEQVR4nO3dy46bWhRAQXOV//9l7sCDSHa3YvM4i0eVMknkDijx0j6AwdM8zw+g81+9A3B3IoSYCCEmQoiJEGIihJgIISZCiIkQYiKEmAghJkKIiRBiIoSYCCEmQoiJEGIihJgIISZCiIkQYiKEmAghJkKIiRBiIoSYCCEmQoiJEGIihJgIISZCiIkQYiKEmAghJkKIiRBiIoSYCCEmQoiJEGIihJgIISZCiIkQYiKEmAghJkKIiRBiIoSYCCEmQoiJEGIihJgIISZCiIkQYiKEmAghJkKIiRBiIoSYCCEmQoiJEGIihJgIISZCiIkQYiKEmAghJkKIiRBiIoSYCCEmQoiJEGIihJgIISZCiIkQYiKEmAghJkKIiRBiIoSYCCEmQoiJEGIihJgIISZCiIkQYiKEmAghJkKIiRBiIoSYCCEmQoiJEGIihJgIISZCiIkQYiKEmAghJkKIiRBiIry3afr76+XP31/JPv7UO0Bnmh7z/OtvGcUkvKv35ObZuEuIEGKWo/zCVBxFhPziZbGqyd1YjkJMhHf1fhrG2dGI5eiNvXSowMg0+6eHlOUoxER4e0571kQIMRFCTIQQEyHERAgxEUJMhBATIcREeHcu1edEOM7ksyn8RIQjTNM0TZ9+Vl6rdyPC3T3z+/xulXmen9HuulcvlB9yK9NxfT48N9nQs0Pvh/FMwuMa3MNzXBuJ44lwF5u/lYe1kSyGb87jLTb21aLu8wXnyOXicxNWp8M4JtzSt6dAF6S17YHiv7fu6U/7E+FoP77vx4+dL7b4XJp6n+xGhGstmH6LX7D4xb/94BdzVYq7EeFyn2ewX13rX/xdzFLcgQgX+nCGbDKv1u/MtkPYgeK2RLij9SdRNvkbHvsvcVlDhLvY8N08Zpa+/KRBN5IIN7bTMBk90Bz7DSTCzQxYy218aPfB9h4PKe5OhBsYfCg1+kqjFHcmwlXCMxmLP3OzeHs/d+h7nVYT4XLDbjU67j68lOmMziLuolguLzD2ntz7F4/yARFCTISn4R6/qxIhxEQIMRGy1PtpGGdHF/F4C1Z46VCBi4jwNA56ReSYe3UqlqMQEyHERHgarhNelQghJkKIiRBiIoSYCE/joNcJWU2EEBMhxER4Gq4TXpUIISZCiIkQYiKEmAhPw3XCqxIhxEQIMY+3OCtf6HkZIjwf+V2MCE/mCN9Cw7ZEeBoG4FWJ8ATkd20iPDT53YEIj8vh302I8Ii+GoCm5dmJ8Fjkd0MiPJCv1p8Wq5fhP/IQzLQ7Mwlj1p+IsPT5klJ+F2Y5egIO/67NrUwnoMBrE+FBTdPkGYc34ZjwcBz+3Y0Ij8Xh3w1Zjh6LAm9IhBATIcRECDERQkyEEBMhxEQIMRFCTIQQEyHERAgxEUJMhBATIcRECDERQkyEEBMhxEQIMRFCTIQQEyHERAgxEUJMhBATIcRECDERQkyEEBMhxEQIMRFCTIQQEyHERAgxEUJMhBATIcRECDERQkyEEBMhxEQIMRFCTIQQEyHERAgxEUJMhBATIcRECDERQkyEEBMhxEQIMRFCTIQQEyHERAgxEUJMhBATIcRECDERQkyEEBMhxEQIMRFCTIQQEyHERAgxEUJMhBATIcRECDERQkyEEBMhxEQIMRFCTIQQEyHERAgxEUJMhBATIcRECDERQkyEEBMhxEQIMRFCTIQQEyHERAgxEUJMhBATIcRECDERQkyEEBMhxEQIMRFCTIQQ+x+2boBfwIcGhQAAAABJRU5ErkJggg==\" alt=\"Mol\"/>  <img src=\"data:image/png;base64,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\" alt=\"Mol\"/>                          8                           19\n",
        "5     108-78-1  0.000037                     168               1                                                                                                                                                                                                          <img src=\"data:image/png;base64,iVBORw0KGgoAAAANSUhEUgAAASwAAAEsCAIAAAD2HxkiAAAEgElEQVR4nO3c0W6bMABA0TDt/3+ZPTBNU5puQAzXVc95rAixRK5sB5plXdcH0PlRDwC+OxFCTIQQEyHERAgxEUJMhBATIcRECDERQkyEEBMhxEQIMRFCTIQQEyHERAgxEUJMhBATIcRECDERQkyEEBMhxEQIMRFCTIQQEyHERAgxEUJMhBATIcRECDERQkyEEBMhxEQIMRFCTIQQEyHERAgxEUJMhBATIcRECDERQkyEEBMhxEQIMRFCTIQQEyHERAgxEUJMhBATIcRECDERQkyEEBMhxEQIMRFCTIQQEyHERAgxEUJMhBATIcRECDERQkyEEBMhxEQIMRFCTIQQEyHERAgxEUJMhBATIcRECDERQkyEEBMhxEQIMRFCTIQQEyHERAgxEUJMhBATIcRECDERQkyEEBMhxEQIMRFCTIQQEyHERAgxEUJMhBATIcRECDERQkyEEBMhxEQIMRFCTIQQEyHERAgxEUJMhBATIcRECDERQkyEEBMhxEQIMRFCTIQQEyHERDiRZVkGHsZXsazrWo+B313tvxZHj2dmIuwty8mrcPqFTMVVhJg9YWP4vu6KjeLHU9qNXkGEd1uWZf8ycn9a67puZ35jaC8HMPZ8vPCzHsD3cjS/La3Hvu9gtmPGbhTX9bEsD1uWS4nwVnvyeKruT1o7X26T/+VYjt5h/ypxm8c+hrT98eiCc8jqdJsMuY6Z8Fr7Z7A9Rx5dcB5azf7zPBalFxLhVcbm97frNopKS7hPGHvne5SBz81sC86nMz01+fIY3mcmzLyf0NHvbD4ZxnaqPW9nc3gJM2Hgiic/T5zTzDYJEd7q6gevD92HdOkn4Urc557P/X879x8YsxHhHe7/3L98R/nNSYTXaj/3J559434ivNAk+65JhsFnPLYGMRFCTIRjzPDjSzOMgRNECDERQkyEEBMhxEQ4xgw34mYYAyeIEGIihJgIx5jhHt0MY+AEEUJMhBATIcRECDERjjHDPboZxsAJIoSYCCEmwjFmuEc3wxg4QYQQEyHERAgxEUJMhGPMcI9uhjFwggghJkKI+YF0iJkJISZCiIkQYiKEmAghJkKIiRBiIoSYCCEmQoiJEGIihJgIISZCiIkQYiKEmAghJkKIiRBiIoSYCCEmQoiJEGIihJgIISZCiIkQYiKEmAghJkKIiRBiIoSYCCEmQoiJEGIihJgIISZCiIkQYiKEmAghJkKIiRBiIoSYCCEmQoiJEGIihJgIISZCiIkQYiKEmAghJkKIiRBiIoSYCCEmQoiJEGIihJgIISZCiIkQYiKEmAghJkKIiRBiIoSYCCEmQoiJEGIihJgIISZCiIkQYiKEmAghJkKIiRBiIoSYCCEmQoiJEGIihJgIISZCiIkQYiKEmAghJkKIiRBiIoSYCCEmQoiJEGIihJgIISZCiIkQYiKEmAghJkKIiRBiIoSYCCEmQoiJEGIihJgIISZCiIkQYiKEmAghJkKIiRBiIoSYCCEmQoiJEGIihJgIISZCiIkQYiKEmAghJkKIiRBiIoSYCCH2CzHd7zK6v8MSAAAAAElFTkSuQmCC\" alt=\"Mol\"/>                                                                                                                                                                                                                                  <img src=\"data:image/png;base64,iVBORw0KGgoAAAANSUhEUgAAASwAAAEsCAIAAAD2HxkiAAAFNklEQVR4nO3d2Y7aSABAURjN//+y5wENiWiapWxzbXzOUysijtX4psr7eZqmE9D5p14BODoRQkyEEBMhxEQIMRFCTIQQEyHERAgxEUJMhBATIcRECDERQkyEEBMhxEQIMRFCTIQQEyHERAgxEUJMhBATIcRECDERQkyEEBMhxEQIMRFCTIQQEyHERAgxEUJMhBATIcRECDERQkyEEBMhxEQIMRFCTIQQEyHERAgxEUJMhBATIcRECDERQkyEEBMhxEQIMRFCTIQQEyHERAgxEUJMhBATIcRECDERQkyEEBMhxEQIMRFCTIQQEyHERAgxEUJMhBATIcRECDERQkyEEBMhxEQIMRFCTIQQEyHERAgxEUJMhBATIcRECDERQkyEEBMhxEQIMRFCTIQQEyHERAgxEUJMhBATIcRECDERQkyELOB8PtersGMihJgIISZCiIkQYiKEmAghJkKIiZBFTPUK7JgIISZCiIkQYiKEmAghJkKIiRBiImQBk9OEM4gQYiKEmAghJkKIiRBiIoSYCBn380GHHn04QITMorr5RLhv+VN3p0mHc/1brwCDLvlN03T9oV4jBolwf26qu/wQpngZDP0nMEyEO3M+n++W1qaowznsE+7G+Xz+rcCraZquE9R11mGtDx+ZkXAH3h3f1thRvBT1YHk/j9Bc/8QI+ZgIt+7p6HfXsrPTF6eadzt8/a8f1sgXzGcsl9Cs5SySkA4fEOEWvZjNW4PkQIrLTiZNTX8jwm15N5WBz7/44bFpcLXYXfMb2ZDhDfStFJ9+eO3zHK4uuCHCTVhku5yf4ifzkOKVCGMrnEsYSbFKQoonEbbW20F695hNuxkcPEXnCb/Tvi7s3sVKrsdla1u0yHVn10vY8tudeMxI+OXyeyx4SoSHIMUtMx09kLXvsWCMCA/HSLg1IoSYCCEmQoiJEGIihJgIISZCiIkQYiKEmAghJkKIiRBiIoSYCA/HrUxb46beA3FT7zaJ8BDkt2Ui/HLy2z4RbtEizchvL44b4Xdvo/nzfHnd0b+q/PHvG3kM/lL/OgOOHuHFh7fFn8PURl4IQ0KEf3xmu3wwUdzIq9H4MBHeWvUlLadnW/92XhLKx/hK7ljjxc5vvbR9I6/L5jNE+Ku3snm8nNNQ0kuNWvLbOBE+MrPD+SPqzH7ktwsifGIspGUntAMtyW9HRPiSN/foFt6f/H+xr3bl6Mu++LZ25nFgBsA9EuHbfg50Kw19v6/AndLkt1/HvXZ0jg9Xd+PmjZ/y2zsRjpimuMPTXynKb+883mLfFPgFRDjoMhjCfCIcp0MWIUKIiXAWgyHziXAuR0aYyQFuiBkJISZCiIlwnEMyLEKEEBMhxEQIMRFCTIQQEyHERAgxEc7hRCELECHERAgxEUJMhBATIcRECDERQkyE4zwZhEWIEGIihJgIISZCiIkQYiKEmAghJkKIiRBiIoSYCCEmQoiJEGIihJgIISZCiIkQYiKEmAghJkKIiRBiIoSYCCEmQoiJEGIihJgIISZCiIkQYiKEmAghJkKIiRBiIoSYCCEmQoiJEGIihJgIISZCiIkQYiKEmAghJkKIiRBiIoSYCCEmQoiJEGIihJgIISZCiIkQYiKEmAghJkKIiRBiIoSYCCEmQoiJEGIihJgIISZCiIkQYiKEmAghJkKIiRBiIoSYCCEmQoiJEGIihJgIISZCiIkQYiKEmAghJkKIiRBiIoSYCCEmQoiJEGIihJgIISZCiIkQYiKEmAghJkKIiRBiIoSYCCEmQoiJEGIihNh/cFXKEyjdGegAAAAASUVORK5CYII=\" alt=\"Mol\"/>                        117                           51"
       ]
      }
     ],
     "prompt_number": 69
    },
    {
     "cell_type": "heading",
     "level": 1,
     "metadata": {},
     "source": [
      "Class to calculate the alert for new molecules: continuous bioactivity values\n"
     ]
    },
    {
     "cell_type": "code",
     "collapsed": false,
     "input": [
      "class CalculatePvaluesContinuous:\n",
      "    '''\n",
      "    Calculate the p.values for each substructure in the input molecule\n",
      "    '''\n",
      "    def __init__(self,radii_ext):\n",
      "        # needs to be the same as the one used to calcualte the dictionary of substructures\n",
      "        self.radii_ext = radii_ext\n",
      "        columns = ['Compound ID',\n",
      "                   'Number compounds',\n",
      "                   'statistic',\n",
      "                   'p_value',\n",
      "                   'Diff. distribution means (w - wo)',\n",
      "                   'Compounds with substr.',\n",
      "                   'Substructure',\n",
      "                   'Substructure in Molecule'\n",
      "                   ]\n",
      "        self.output = pd.DataFrame(columns=columns)\n",
      "    \n",
      "    def calculate_p_values(self,\n",
      "                           mols,\n",
      "                           substructure_dictionary,\n",
      "                           bioactivities,\n",
      "                           mols_ids,\n",
      "                           threshold_nb_substructures,\n",
      "                           threshold_pvalue,\n",
      "                           threshold_ratio_w_wo,\n",
      "                           Bonferroni=True\n",
      "                           ):\n",
      "        self.Bonferroni = Bonferroni\n",
      "        nb_mols = float(len(set([item for sublist in substructure_dictionary.values() for item in sublist])))\n",
      "\n",
      "        \n",
      "        if type(mols) != list: mols = [mols[i] for i in np.arange(0,len(mols))]\n",
      "        nb_substructures_processed=0\n",
      "        for m,mol in enumerate(mols): \n",
      "            info={}\n",
      "            fp = AllChem.GetMorganFingerprint(mol,max(self.radii_ext),bitInfo=info)\n",
      "            substructures_sub_dict = substructure_dictionary.keys()\n",
      "            \n",
      "            for substructure_id, atom_radius in info.iteritems():\n",
      "                nb_substructures_processed += 1\n",
      "                # check is the substructure is in the database\n",
      "                if substructure_id in substructures_sub_dict and atom_radius[0][1] in self.radii_ext:\n",
      "                    nb_comp_with_substructure = float(len(substructure_dictionary[substructure_id]))\n",
      "                    \n",
      "                    #filter threshold of compounds with the substructure\n",
      "                    filter_a = nb_comp_with_substructure > threshold_nb_substructures\n",
      "                    # filter threshold with without\n",
      "                    filter_b = float(nb_comp_with_substructure / nb_mols) > threshold_ratio_w_wo\n",
      "                    if filter_a and filter_b:\n",
      "                        mask = np.in1d(mols_ids,substructure_dictionary[substructure_id])\n",
      "                        bio_substr = bioactivities[mask]\n",
      "                        bio_wo_substr = bioactivities[np.logical_not(mask)]\n",
      "                        # check normality\n",
      "                        if sc.stats.shapiro(bio_substr) > 0.05 and sc.stats.shapiro(bio_wo_substr) > 0.05:\n",
      "                            test = sc.stats.ttest_ind(bio_substr, bio_wo_substr)\n",
      "                            p_value = test[1]\n",
      "                            estatistic = test[0]\n",
      "                        else:\n",
      "                            test = sc.stats.ks_2samp(bio_substr, bio_wo_substr)\n",
      "                            p_value = test[1]\n",
      "                            estatistic = test[0]\n",
      "                        if p_value < threshold_pvalue: \n",
      "                            env = Chem.FindAtomEnvironmentOfRadiusN(mol,atom_radius[0][1],atom_radius[0][0])\n",
      "                            amap = {}\n",
      "                            submol=Chem.PathToSubmol(mol,env,atomMap=amap)\n",
      "                            m1 = mol\n",
      "                            m1.GetSubstructMatch(submol)\n",
      "                            self.output = self.output.append({\n",
      "                                                       'Compound ID' : mols_ids[m],\n",
      "                                                       'Number compounds':nb_mols,\n",
      "                                                       'p_value': p_value,\n",
      "                                                       'statistic': estatistic,\n",
      "                                                       'Compounds with substr.': nb_comp_with_substructure,\n",
      "                                                       'Substructure': submol,\n",
      "                                                       'Substructure in Molecule': m1,\n",
      "                                                       'Diff. distribution means (w - wo)': np.mean(bio_substr) - np.mean(bio_wo_substr),\n",
      "                                                       },ignore_index=True)\n",
      "           \n",
      "        print 'number of substructures processed: ', nb_substructures_processed # this could be changed..\n",
      "        \n",
      "        if self.Bonferroni == True:\n",
      "            self.output['p_value'] = self.output['p_value'] / nb_substructures_processed\n",
      "        \n",
      "    def OutputWriter(self,output_filename):\n",
      "        if os.path.exists(output_filename): os.remove(output_filename)\n",
      "        with open(output_filename, 'w') as fo:\n",
      "            fo.write(self.output.to_html())\n",
      "       \n",
      "        \n"
     ],
     "language": "python",
     "metadata": {},
     "outputs": [],
     "prompt_number": 426
    },
    {
     "cell_type": "code",
     "collapsed": false,
     "input": [
      "ext=load_molecules(\"./cox.smi\",name_field=None)\n",
      "ext.read_molecules()"
     ],
     "language": "python",
     "metadata": {},
     "outputs": [
      {
       "output_type": "stream",
       "stream": "stdout",
       "text": [
        "Format of the structures file = SMILES\n",
        "The following 131 molecules (starting at zero) could not be processed:\n"
       ]
      },
      {
       "output_type": "stream",
       "stream": "stdout",
       "text": [
        "\n",
        "NOTE: the indexes of the molecules start at zero. Thus the first molecule is molecule 0.\n",
        "This information has been saved in the following file: incorrect_molecules_.csv\n",
        "\n"
       ]
      }
     ],
     "prompt_number": 398
    },
    {
     "cell_type": "code",
     "collapsed": false,
     "input": [
      "cox_bio = genfromtxt('./cox_bio.bio',skiprows=1)\n",
      "cox_bio.shape\n",
      "arr = np.arange(0,len(cox_bio))\n",
      "mask = np.ones(arr.shape,dtype=bool)\n",
      "mask[ext.molserr]=0\n",
      "cox_bio =  cox_bio[mask]\n",
      "print len(cox_bio)\n",
      "print len(ext.mols)"
     ],
     "language": "python",
     "metadata": {},
     "outputs": [
      {
       "output_type": "stream",
       "stream": "stdout",
       "text": [
        "4806\n",
        "4806\n"
       ]
      }
     ],
     "prompt_number": 399
    },
    {
     "cell_type": "code",
     "collapsed": false,
     "input": [
      "d = get_dataset_info(name_field=None)\n",
      "d.extract_substructure_information(radii=[4],mols=ext.mols)"
     ],
     "language": "python",
     "metadata": {},
     "outputs": [],
     "prompt_number": 438
    },
    {
     "cell_type": "code",
     "collapsed": false,
     "input": [
      "a = CalculatePvaluesContinuous(radii_ext=[4])"
     ],
     "language": "python",
     "metadata": {},
     "outputs": [],
     "prompt_number": 471
    },
    {
     "cell_type": "code",
     "collapsed": false,
     "input": [
      "a.calculate_p_values(mols=[ext.mols[i] for i in np.arange(8,53)],\n",
      "                     substructure_dictionary = d.substructure_dictionary,\n",
      "                     bioactivities = cox_bio,\n",
      "                     mols_ids = d.mols_ids,\n",
      "                     threshold_nb_substructures = 1,\n",
      "                     threshold_pvalue = 0.9,\n",
      "                     threshold_ratio_w_wo=0.02)"
     ],
     "language": "python",
     "metadata": {},
     "outputs": [
      {
       "output_type": "stream",
       "stream": "stdout",
       "text": [
        "number of substructures processed:  3115\n"
       ]
      }
     ],
     "prompt_number": 484
    },
    {
     "cell_type": "code",
     "collapsed": false,
     "input": [
      "len(a.output)"
     ],
     "language": "python",
     "metadata": {},
     "outputs": [
      {
       "metadata": {},
       "output_type": "pyout",
       "prompt_number": 485,
       "text": [
        "139"
       ]
      }
     ],
     "prompt_number": 485
    },
    {
     "cell_type": "code",
     "collapsed": false,
     "input": [
      "a.output['Substructure in Molecule'][0]"
     ],
     "language": "python",
     "metadata": {},
     "outputs": [
      {
       "metadata": {},
       "output_type": "pyout",
       "png": "[encoded data removed]",
       "prompt_number": 436,
       "text": [
        "<rdkit.Chem.rdchem.Mol at 0x100ad92f0>"
       ]
      }
     ],
     "prompt_number": 436
    },
    {
     "cell_type": "code",
     "collapsed": false,
     "input": [
      "def SaveXlsxFromFrame(frame, outFile, molCol='ROMol', size=(300,300)):\n",
      "    \"\"\"\n",
      "    http://nbviewer.ipython.org/github/Team-SKI/snippets/blob/master/IPython/rdkit_hackaton/XLSX%20export.ipynb\n",
      "    Saves pandas DataFrame as a xlsx file with embedded images.\n",
      "    It maps numpy data types to excel cell types:\n",
      "    int, float -> number\n",
      "    datetime -> datetime\n",
      "    object -> string (limited to 32k character - xlsx limitations)\n",
      "    \n",
      "    Due to xlsxwriter limitations (other python xlsx writers have the same problem) \n",
      "    temporary image files have to be written to the hard drive.\n",
      "    \n",
      "    Cells with compound images are a bit larger than images due to excel.\n",
      "    Column width weirdness explained (from xlsxwriter docs):\n",
      "    The width corresponds to the column width value that is specified in Excel. \n",
      "    It is approximately equal to the length of a string in the default font of Calibri 11. \n",
      "    Unfortunately, there is no way to specify \u201cAutoFit\u201d for a column in the Excel file format.\n",
      "    This feature is only available at runtime from within Excel.\n",
      "    \"\"\"\n",
      "    \n",
      "    import xlsxwriter # don't want to make this a RDKit dependency\n",
      "       \n",
      "    cols = list(frame.columns)\n",
      "\n",
      "    #for i in molCol:\n",
      "    cols.remove(molCol)\n",
      "    dataTypes = dict(frame.dtypes)\n",
      "    print cols\n",
      "\n",
      "    workbook = xlsxwriter.Workbook(outFile) # New workbook\n",
      "    worksheet = workbook.add_worksheet() # New work sheet\n",
      "    worksheet.set_column('A:A', size[0]/6.) # column width\n",
      "    \n",
      "    # Write first row with column names\n",
      "    c2 = 1\n",
      "    for x in cols:\n",
      "        worksheet.write_string(0, c2, x)\n",
      "        c2 += 1\n",
      "    \n",
      "    c = 1\n",
      "    tmpfiles = []\n",
      "    for index, row in frame.iterrows():\n",
      "        imfile = \"xlsx_tmp_img_%i.png\" %c   ### HERE DRAW the substructures!!!!\n",
      "        tmpfiles.append(imfile)\n",
      "        worksheet.set_row(c, height=size[1]) # looks like height is not in px?\n",
      "        Draw.MolToFile(row[molCol], imfile, size=size)  # has to save a file on disk in order for xlsxwriter to incorporate the image\n",
      "        worksheet.insert_image(c, 0, imfile)\n",
      "\n",
      "        c2 = 1\n",
      "        # Write data in columns and make some basic translation of numpy dtypes to excel data types\n",
      "        for x in cols:\n",
      "            if str(dataTypes[x]) == \"object\":\n",
      "                worksheet.write_string(c, c2, str(row[x])[:32000]) # string length is limited in xlsx\n",
      "            elif ('float' in str(dataTypes[x])) or ('int' in str(dataTypes[x])):\n",
      "                if (row[x] != np.nan) or (row[x] != np.inf):\n",
      "                    worksheet.write_number(c, c2, row[x])\n",
      "            elif 'datetime' in str(dataTypes[x]):\n",
      "                worksheet.write_datetime(c, c2, row[x])\n",
      "            c2 += 1\n",
      "        c += 1\n",
      "\n",
      "    workbook.close()\n",
      "    \n",
      "    for f in tmpfiles:\n",
      "        os.remove(f)\n",
      "    "
     ],
     "language": "python",
     "metadata": {},
     "outputs": [],
     "prompt_number": 453
    },
    {
     "cell_type": "code",
     "collapsed": false,
     "input": [
      "SaveXlsxFromFrame(a.output[['Compound ID', 'Number compounds', 'statistic',\n",
      "                           'p_value', 'Diff. distribution means (w - wo)',\n",
      "                           'Compounds with substr.','Substructure in Molecule']], \n",
      "                  outFile='demo.xlsx', \n",
      "                  size=(200,200),\n",
      "                  molCol='Substructure in Molecule')"
     ],
     "language": "python",
     "metadata": {},
     "outputs": [
      {
       "output_type": "stream",
       "stream": "stdout",
       "text": [
        "['Compound ID', 'Number compounds', 'statistic', 'p_value', 'Diff. distribution means (w - wo)', 'Compounds with substr.']\n"
       ]
      }
     ],
     "prompt_number": 486
    },
    {
     "cell_type": "code",
     "collapsed": false,
     "input": [],
     "language": "python",
     "metadata": {},
     "outputs": []
    }
   ],
   "metadata": {}
  }
 ]
}