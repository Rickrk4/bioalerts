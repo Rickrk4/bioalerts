{
 "metadata": {
  "name": ""
 },
 "nbformat": 3,
 "nbformat_minor": 0,
 "worksheets": [
  {
   "cells": [
    {
     "cell_type": "code",
     "collapsed": false,
     "input": [
      "import numpy\n",
      "import os\n",
      "import sys\n",
      "import rdkit\n",
      "from rdkit import Chem\n",
      "from rdkit.Chem import rdMolDescriptors\n",
      "import rdkit.rdBase\n",
      "from rdkit.Chem.MACCSkeys import GenMACCSKeys\n",
      "from rdkit.Chem import AllChem\n",
      "from rdkit import DataStructs\n",
      "from rdkit.DataStructs import BitVectToText\n",
      "from rdkit.Chem import Draw\n",
      "import scipy as sc"
     ],
     "language": "python",
     "metadata": {},
     "outputs": [],
     "prompt_number": 412
    },
    {
     "cell_type": "heading",
     "level": 1,
     "metadata": {},
     "source": [
      "Class to read the data"
     ]
    },
    {
     "cell_type": "code",
     "collapsed": false,
     "input": [
      "def RetrieveMol2Block(fileLikeObject, delimiter=\"@<TRIPOS>MOLECULE\"):\n",
      "    import rdkit.Chem\n",
      "    \"\"\"generator which retrieves one mol2 block at a time\n",
      "    \"\"\"\n",
      "    mol2 = []\n",
      "    for line in fileLikeObject:\n",
      "        if line.startswith(delimiter) and mol2:\n",
      "            yield \"\".join(mol2)\n",
      "            mol2 = []\n",
      "        mol2.append(line)\n",
      "    if mol2:\n",
      "        yield \"\".join(mol2)\n"
     ],
     "language": "python",
     "metadata": {},
     "outputs": [],
     "prompt_number": 27
    },
    {
     "cell_type": "code",
     "collapsed": false,
     "input": [
      "class load_molecules:    \n",
      "    def __init__(self,input_file,verbose=True):\n",
      "        self.input_file = input_file\n",
      "        self.verbose = True\n",
      "        file_name, file_extension = os.path.splitext(input_file)\n",
      "        self.file_name = file_name\n",
      "        self.file_extension = file_extension\n",
      "        if(file_extension not in ['.smi','.smiles','.sdf','.mol2']): \n",
      "            raise ValueError(\"Incorrect file extension\")\n",
      "        self.mols = []\n",
      "        self.molserr = []\n",
      "        self.nb_mols = None\n",
      "        \n",
      "    def read_molecules(self):\n",
      "\n",
      "        if self.file_extension in ['.smi','.smiles']:\n",
      "            if self.verbose:\n",
      "                print \"Format of the structures file = SMILES\"\n",
      "            suppl = Chem.SmilesMolSupplier(self.input_file,smilesColumn=0,nameColumn=1,delimiter=',',titleLine=False)\n",
      "\n",
      "            for i,m in enumerate(suppl):\n",
      "                if m is not None:\n",
      "                    self.mols.append(m)\n",
      "                else:\n",
      "                    self.molserr.append(i)\n",
      "            nb_mols=len(self.mols)\n",
      "        elif self.file_extension == '.mol2':\n",
      "            print \"Format of the structures file = Mol2\"\n",
      "            molss=[]\n",
      "            with open(self.input_file) as fi:\n",
      "                for mol2 in RetrieveMol2Block(fi):\n",
      "                    rdkMolecule = rdkit.Chem.MolFromMol2Block(mol2)\n",
      "                    molss.append(rdkMolecule)\n",
      "            for i,m in enumerate(molss):\n",
      "                if m is not None:\n",
      "                    self.mols.append(m)\n",
      "                else:\n",
      "                    self.molserr.append(i)\n",
      "                    self.mols.append(m)\n",
      "            self.nb_mols=len(self.mols)\n",
      "        else:\n",
      "            if self.verbose:\n",
      "                print \"Format of the structures file = SDF\"\n",
      "            suppl = Chem.SDMolSupplier(self.input_file)\n",
      "            for i,m in enumerate(suppl):\n",
      "                if m is not None:\n",
      "                    self.mols.append(m)\n",
      "                else:\n",
      "                    self.molserr.append(i)\n",
      "            self.nbMols=len(self.mols)\n",
      "        \n",
      "        if self.verbose:\n",
      "            if len(self.molserr) !=0:\n",
      "                print \"The following %d molecules (starting at zero) could not be processed:\\n\"%(len(self.molserr))\n",
      "                for x in self.molserr: print x\n",
      "                print \"NOTE: the indexes of the molecules start at zero. Thus the first molecule is molecule 0.\"\n",
      "                err_file=\"incorrect_molecules_\"+outname+\".csv\"\n",
      "                print \"This information has been saved in the following file: %s\\n\"%(errfile)\n",
      "                # Save the information about which molecules could not be processed correctly.\n",
      "                np.savetxt(err_file,self.molserr,fmt=\"%d\")\n",
      "                del err_file\n",
      "            else:\n",
      "                print \"All molecules in the input file were processed correctly\""
     ],
     "language": "python",
     "metadata": {},
     "outputs": [],
     "prompt_number": 82
    },
    {
     "cell_type": "code",
     "collapsed": false,
     "input": [
      "a=load_molecules(\"test.sdf\")\n",
      "a.read_molecules()"
     ],
     "language": "python",
     "metadata": {},
     "outputs": [
      {
       "output_type": "stream",
       "stream": "stdout",
       "text": [
        "Format of the structures file = SDF\n",
        "All molecules in the input file were processed correctly\n"
       ]
      }
     ],
     "prompt_number": 317
    },
    {
     "cell_type": "heading",
     "level": 1,
     "metadata": {},
     "source": [
      "Class to get the substructure IDs"
     ]
    },
    {
     "cell_type": "code",
     "collapsed": false,
     "input": [
      "class get_dataset_info:\n",
      "    '''\n",
      "    Crate a dictionary: keys = substructure IDs, value = compound IDs.\n",
      "        Thus, we now for a compound, which substructures it contains\n",
      "    '''\n",
      "\n",
      "    def __init__(self):\n",
      "        self.nb_substructures = None\n",
      "        self.radius = None\n",
      "        self.mols_ids = []\n",
      "        self.substructure_dictionary = {}\n",
      "    \n",
      "    import operator\n",
      "    def _combine_dicts(self,a, b, op=operator.add):\n",
      "        return dict(a.items() + b.items() + [(k, op(a[k], b[k])) for k in set(b) & set(a)])\n",
      "        \n",
      "    def extract_substructure_information(self,radius,mols):\n",
      "        self.radius = radius\n",
      "        \n",
      "        global indexes_mols\n",
      "        \n",
      "        if len(mols[0].GetPropNames()) == 0:\n",
      "            print \"The molecules do not have a name. Numerical indexes will be used instead\"\n",
      "            indexes_mols = True\n",
      "        \n",
      "        for i,m in enumerate(mols):\n",
      "            info={}\n",
      "            fp = AllChem.GetMorganFingerprint(m,self.radius,bitInfo=info)\n",
      "            #substructure_ids = info.keys() \n",
      "            mol_id = i if indexes_mols else m.GetProp('Name')\n",
      "            self.mols_ids.append(mol_id)\n",
      "            substructure_dictionary = {v:[mol_id] for v in info.keys()}\n",
      "            \n",
      "            self.substructure_dictionary = self._combine_dicts(substructure_dictionary,self.substructure_dictionary\n",
      "        "
     ],
     "language": "python",
     "metadata": {},
     "outputs": [],
     "prompt_number": 337
    },
    {
     "cell_type": "code",
     "collapsed": false,
     "input": [
      "d = get_dataset_info()"
     ],
     "language": "python",
     "metadata": {},
     "outputs": [],
     "prompt_number": 338
    },
    {
     "cell_type": "code",
     "collapsed": false,
     "input": [
      "d.extract_substructure_information(radius=2,mols=a.mols)"
     ],
     "language": "python",
     "metadata": {},
     "outputs": [],
     "prompt_number": 339
    },
    {
     "cell_type": "code",
     "collapsed": false,
     "input": [
      "ss = d.substructure_dictionary"
     ],
     "language": "python",
     "metadata": {},
     "outputs": [],
     "prompt_number": 340
    },
    {
     "cell_type": "heading",
     "level": 1,
     "metadata": {},
     "source": [
      "Class to calculate the alert for new molecules"
     ]
    },
    {
     "cell_type": "code",
     "collapsed": false,
     "input": [
      "class CalculatePvaluesCategorical:\n",
      "    '''\n",
      "    Calculate the p.values for each substructure in the input molecule\n",
      "    n mols in the dataset\n",
      "    m mols with a given activity label\n",
      "    n' compounds with the substruct\n",
      "    m' compounds from n' with the activity label\n",
      "    '''\n",
      "    def __init__(self,radius):\n",
      "        self.p_values_dictionary = {}\n",
      "        # needs to be the same as the one used to calcualte the dictionary of substructures\n",
      "        self.radius = radius\n",
      "    \n",
      "    def calculate_p_values(self,mol,substructure_dictionary,bioactivities,mols_ids,active_label):\n",
      "        nb_mols = len(set([item for sublist in substructure_dictionary.values() for item in sublist]))\n",
      "        nb_active_mols = np.sum(bioactivities == active_label)\n",
      "        \n",
      "        info={}\n",
      "        fp = AllChem.GetMorganFingerprint(mol,self.radius,bitInfo=info)\n",
      "        \n",
      "        for substructure_id, atom_radius in info.iteritems():\n",
      "            nb_comp_with_substructure = len(substructure_dictionary[substructure_id])\n",
      "            active_comp = (bioactivities == active_label)\n",
      "            comp_with_substructure = np.in1d(np.asarray(mols_ids) , np.asarray(substructure_dictionary[substructure_id]))\n",
      "            nb_comp_with_substructure_active = np.sum(active_comp * comp_with_substructure)\n",
      "            \n",
      "            p_value = 0 \n",
      "            for count in np.arange(nb_comp_with_substructure_active,nb_comp_with_substructure):\n",
      "                numerator = sc.math.factorial(nb_comp_with_substructure)\n",
      "                denominatorA = sc.math.factorial(count) * sc.math.factorial(nb_comp_with_substructure-1)\n",
      "                denominatorB = (nb_active_mols/nb_mols)**count\n",
      "                denominatorC = (1 - (nb_active_mols/nb_mols))**(nb_comp_with_substructure - count)\n",
      "                denominator = denominatorA * denominatorB * denominatorC\n",
      "                p_value += (numerator/denominator)\n",
      "                print numerator, denominator\n",
      "            \n",
      "            self.p_values_dictionary[substructure_id] = p_value\n",
      "        \n",
      "            # Drawing\n",
      "            env = Chem.FindAtomEnvironmentOfRadiusN(mol,atom_radius[0][1],atom_radius[0][0])\n",
      "            amap = {}\n",
      "            submol=Chem.PathToSubmol(mol,env,atomMap=amap)\n",
      "            print Chem.MolToSmiles(submol)\n",
      "        \n",
      "        \n",
      "        "
     ],
     "language": "python",
     "metadata": {},
     "outputs": [],
     "prompt_number": 419
    },
    {
     "cell_type": "code",
     "collapsed": false,
     "input": [
      "ff = CalculatePvaluesCategorical(radius=2)"
     ],
     "language": "python",
     "metadata": {},
     "outputs": [],
     "prompt_number": 420
    },
    {
     "cell_type": "code",
     "collapsed": false,
     "input": [
      "bioactivities = np.array([1,1,1,0,0,0])"
     ],
     "language": "python",
     "metadata": {},
     "outputs": [],
     "prompt_number": 421
    },
    {
     "cell_type": "code",
     "collapsed": false,
     "input": [
      "ff.calculate_p_values(a.mols[0],substructure_dictionary=d.substructure_dictionary,\n",
      "                      bioactivities=bioactivities,mols_ids=d.mols_ids,active_label=1)"
     ],
     "language": "python",
     "metadata": {},
     "outputs": [
      {
       "output_type": "stream",
       "stream": "stdout",
       "text": [
        "[nH]cc(Br)c([nH])=O\n",
        "cc(c)Br\n",
        "120 0\n",
        "120 0\n",
        "\n",
        "c[nH]c\n",
        "720 0\n",
        "720 0\n",
        "720 0\n",
        "\n",
        "\n",
        "cc[nH]\n",
        "cc([nH])=O\n",
        "c[nH]cc(c)Br\n",
        "c[nH]c\n",
        "cc[nH]c([nH])=O\n",
        "[nH]c([nH])=O\n",
        "c[nH]c(=O)c(c)Br\n",
        "cc(=O)[nH]c([nH])=O\n",
        "\n",
        "c[nH]c(=O)[nH]c\n",
        "c=O\n",
        "\n",
        "cBr\n"
       ]
      },
      {
       "output_type": "stream",
       "stream": "stderr",
       "text": [
        "-c:34: RuntimeWarning: divide by zero encountered in long_scalars\n"
       ]
      }
     ],
     "prompt_number": 422
    },
    {
     "cell_type": "code",
     "collapsed": false,
     "input": [
      "ff.p_values_dictionary"
     ],
     "language": "python",
     "metadata": {},
     "outputs": [
      {
       "metadata": {},
       "output_type": "pyout",
       "prompt_number": 418,
       "text": [
        "{10565946: 0,\n",
        " 51783158: 0,\n",
        " 328936174: 0,\n",
        " 864942730: 0,\n",
        " 1198436375: 0,\n",
        " 1305174864: 0,\n",
        " 1390475220: 0,\n",
        " 2132511834: 0,\n",
        " 2184234739: 0,\n",
        " 2262736480: 0,\n",
        " 2296565457: 0,\n",
        " 2297887526: 0,\n",
        " 2752034647: 0,\n",
        " 3217380708: 0,\n",
        " 3218693969: 0,\n",
        " 3612926680: 0,\n",
        " 3632350815: 0,\n",
        " 3636475833: 0,\n",
        " 4239037249: 0}"
       ]
      }
     ],
     "prompt_number": 418
    },
    {
     "cell_type": "code",
     "collapsed": false,
     "input": [],
     "language": "python",
     "metadata": {},
     "outputs": []
    },
    {
     "cell_type": "code",
     "collapsed": false,
     "input": [],
     "language": "python",
     "metadata": {},
     "outputs": []
    },
    {
     "cell_type": "code",
     "collapsed": false,
     "input": [],
     "language": "python",
     "metadata": {},
     "outputs": []
    },
    {
     "cell_type": "code",
     "collapsed": false,
     "input": [
      "set([item for sublist in ss.values() for item in sublist])"
     ],
     "language": "python",
     "metadata": {},
     "outputs": [
      {
       "metadata": {},
       "output_type": "pyout",
       "prompt_number": 327,
       "text": [
        "{'B000139', 'B000236', 'B000310', 'B000728', 'B000785', 'B000821'}"
       ]
      }
     ],
     "prompt_number": 327
    },
    {
     "cell_type": "code",
     "collapsed": false,
     "input": [
      "len(a.mols)\n"
     ],
     "language": "python",
     "metadata": {},
     "outputs": [
      {
       "metadata": {},
       "output_type": "pyout",
       "prompt_number": 318,
       "text": [
        "6"
       ]
      }
     ],
     "prompt_number": 318
    },
    {
     "cell_type": "code",
     "collapsed": false,
     "input": [],
     "language": "python",
     "metadata": {},
     "outputs": []
    },
    {
     "cell_type": "code",
     "collapsed": false,
     "input": [],
     "language": "python",
     "metadata": {},
     "outputs": []
    },
    {
     "cell_type": "code",
     "collapsed": false,
     "input": [
      "g = 0\n",
      "for i in np.arange(0,10):\n",
      " g+=i   "
     ],
     "language": "python",
     "metadata": {},
     "outputs": [],
     "prompt_number": 308
    },
    {
     "cell_type": "code",
     "collapsed": false,
     "input": [
      "g"
     ],
     "language": "python",
     "metadata": {},
     "outputs": [
      {
       "metadata": {},
       "output_type": "pyout",
       "prompt_number": 309,
       "text": [
        "45"
       ]
      }
     ],
     "prompt_number": 309
    },
    {
     "cell_type": "code",
     "collapsed": false,
     "input": [
      "ss[98513984]"
     ],
     "language": "python",
     "metadata": {},
     "outputs": [
      {
       "metadata": {},
       "output_type": "pyout",
       "prompt_number": 292,
       "text": [
        "['B000785', 'B000728', 'B000310']"
       ]
      }
     ],
     "prompt_number": 292
    },
    {
     "cell_type": "code",
     "collapsed": false,
     "input": [
      "i=1\n",
      "indexes_mols=False\n",
      "mol_id = i if indexes_mols else 'pep'\n",
      "indexes_mols"
     ],
     "language": "python",
     "metadata": {},
     "outputs": [
      {
       "metadata": {},
       "output_type": "pyout",
       "prompt_number": 167,
       "text": [
        "False"
       ]
      }
     ],
     "prompt_number": 167
    },
    {
     "cell_type": "code",
     "collapsed": false,
     "input": [
      "[info.iterkeys()]"
     ],
     "language": "python",
     "metadata": {},
     "outputs": [
      {
       "metadata": {},
       "output_type": "pyout",
       "prompt_number": 212,
       "text": [
        "[<dictionary-keyiterator at 0x10e96dc00>]"
       ]
      }
     ],
     "prompt_number": 212
    },
    {
     "cell_type": "code",
     "collapsed": false,
     "input": [
      "info.keys()"
     ],
     "language": "python",
     "metadata": {},
     "outputs": [
      {
       "metadata": {},
       "output_type": "pyout",
       "prompt_number": 213,
       "text": [
        "[98513984,\n",
        " 2246728737,\n",
        " 1207774339,\n",
        " 3217380708,\n",
        " 4048591891,\n",
        " 3776905034,\n",
        " 1100037548,\n",
        " 3999906991,\n",
        " 3218693969,\n",
        " 1235524787,\n",
        " 2614860224,\n",
        " 951226070,\n",
        " 1751362425,\n",
        " 422715066,\n",
        " 4036277955,\n",
        " 2041434490]"
       ]
      }
     ],
     "prompt_number": 213
    },
    {
     "cell_type": "code",
     "collapsed": false,
     "input": [],
     "language": "python",
     "metadata": {},
     "outputs": [
      {
       "ename": "SyntaxError",
       "evalue": "invalid syntax (<ipython-input-140-9469ce99782d>, line 1)",
       "output_type": "pyerr",
       "traceback": [
        "\u001b[0;36m  File \u001b[0;32m\"<ipython-input-140-9469ce99782d>\"\u001b[0;36m, line \u001b[0;32m1\u001b[0m\n\u001b[0;31m    cc{dc}\u001b[0m\n\u001b[0m      ^\u001b[0m\n\u001b[0;31mSyntaxError\u001b[0m\u001b[0;31m:\u001b[0m invalid syntax\n"
       ]
      }
     ],
     "prompt_number": 140
    },
    {
     "cell_type": "code",
     "collapsed": false,
     "input": [],
     "language": "python",
     "metadata": {},
     "outputs": [],
     "prompt_number": 151
    },
    {
     "cell_type": "code",
     "collapsed": false,
     "input": [
      "operator."
     ],
     "language": "python",
     "metadata": {},
     "outputs": []
    }
   ],
   "metadata": {}
  }
 ]
}