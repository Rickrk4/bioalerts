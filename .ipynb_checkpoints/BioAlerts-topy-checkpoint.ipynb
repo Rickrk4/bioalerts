{
 "metadata": {
  "name": ""
 },
 "nbformat": 3,
 "nbformat_minor": 0,
 "worksheets": [
  {
   "cells": [
    {
     "cell_type": "code",
     "collapsed": false,
     "input": [
      "import numpy\n",
      "import os\n",
      "import sys\n",
      "import rdkit\n",
      "from rdkit import Chem\n",
      "from rdkit.Chem import rdMolDescriptors\n",
      "import rdkit.rdBase\n",
      "from rdkit.Chem.MACCSkeys import GenMACCSKeys\n",
      "from rdkit.Chem import AllChem\n",
      "from rdkit import DataStructs\n",
      "from rdkit.DataStructs import BitVectToText\n",
      "import scipy as sc\n",
      "import pandas as pd\n",
      "from rdkit.Chem import PandasTools\n",
      "from rdkit.Chem import Draw\n",
      "from rdkit.Chem.Draw import IPythonConsole\n",
      "from scipy import stats\n",
      "import time"
     ],
     "language": "python",
     "metadata": {},
     "outputs": [
      {
       "output_type": "stream",
       "stream": "stdout",
       "text": [
        "height has been deprecated.\n",
        "\n"
       ]
      }
     ],
     "prompt_number": 1
    },
    {
     "cell_type": "code",
     "collapsed": false,
     "input": [
      "# trial parallel\n",
      "# multithreading with python does not lead to better speed\n",
      "from joblib import Parallel, delayed\n",
      "import multiprocessing\n",
      "\n",
      "ss = Chem.SmilesMolSupplier(\"./test.smi\")#,smilesColumn=0)\n",
      "mols = [ss[0]]*10\n",
      "print len(mols)"
     ],
     "language": "python",
     "metadata": {},
     "outputs": [
      {
       "output_type": "stream",
       "stream": "stdout",
       "text": [
        "10\n"
       ]
      }
     ],
     "prompt_number": 2
    },
    {
     "cell_type": "code",
     "collapsed": false,
     "input": [
      "import operator\n",
      "def combine_dicts(a, b, op=operator.add):\n",
      "        return dict(a.items() + b.items() + [(k, op(a[k], b[k])) for k in set(b) & set(a)])"
     ],
     "language": "python",
     "metadata": {},
     "outputs": [],
     "prompt_number": 99
    },
    {
     "cell_type": "code",
     "collapsed": false,
     "input": [
      "%timeit 2+2"
     ],
     "language": "python",
     "metadata": {},
     "outputs": [
      {
       "output_type": "stream",
       "stream": "stdout",
       "text": [
        "10000000 loops, best of 3: 29.4 ns per loop\n"
       ]
      }
     ],
     "prompt_number": 8
    },
    {
     "cell_type": "code",
     "collapsed": false,
     "input": [],
     "language": "python",
     "metadata": {},
     "outputs": []
    },
    {
     "cell_type": "code",
     "collapsed": false,
     "input": [],
     "language": "python",
     "metadata": {},
     "outputs": []
    },
    {
     "cell_type": "code",
     "collapsed": false,
     "input": [],
     "language": "python",
     "metadata": {},
     "outputs": []
    },
    {
     "cell_type": "code",
     "collapsed": false,
     "input": [],
     "language": "python",
     "metadata": {},
     "outputs": []
    },
    {
     "cell_type": "code",
     "collapsed": false,
     "input": [],
     "language": "python",
     "metadata": {},
     "outputs": []
    },
    {
     "cell_type": "code",
     "collapsed": false,
     "input": [],
     "language": "python",
     "metadata": {},
     "outputs": []
    },
    {
     "cell_type": "heading",
     "level": 1,
     "metadata": {},
     "source": [
      "Class to read the data"
     ]
    },
    {
     "cell_type": "code",
     "collapsed": false,
     "input": [
      "def RetrieveMol2Block(fileLikeObject, delimiter=\"@<TRIPOS>MOLECULE\"):\n",
      "    import rdkit.Chem\n",
      "    \"\"\"generator which retrieves one mol2 block at a time\n",
      "    \"\"\"\n",
      "    mol2 = []\n",
      "    for line in fileLikeObject:\n",
      "        if line.startswith(delimiter) and mol2:\n",
      "            yield \"\".join(mol2)\n",
      "            mol2 = []\n",
      "        mol2.append(line)\n",
      "    if mol2:\n",
      "        yield \"\".join(mol2)\n"
     ],
     "language": "python",
     "metadata": {},
     "outputs": [],
     "prompt_number": 3
    },
    {
     "cell_type": "code",
     "collapsed": false,
     "input": [
      "class load_molecules:    \n",
      "    def __init__(self,input_file,verbose=True,delimiter=\"\\t\",name_field=\"_Name\"):\n",
      "        self.input_file = input_file\n",
      "        self.verbose = True\n",
      "        self.delimiter = delimiter\n",
      "        file_name, file_extension = os.path.splitext(input_file)\n",
      "        self.file_name = file_name\n",
      "        self.file_extension = file_extension\n",
      "        if(file_extension not in ['.smi','.smiles','.sdf','.mol2']): \n",
      "            raise ValueError(\"Incorrect file extension\")\n",
      "        self.mols = []\n",
      "        self.molserr = []\n",
      "        self.nb_mols = None\n",
      "        self.mols_ids = []\n",
      "        self.name_field = name_field\n",
      "        \n",
      "    def read_molecules(self,titleLine=False,smilesColumn=0,nameColumn=1): #titleLine for smiles\n",
      "\n",
      "        if self.file_extension in ['.smi','.smiles']:\n",
      "            if self.verbose:\n",
      "                print \"Format of the structures file = SMILES\"\n",
      "            suppl = Chem.SmilesMolSupplier(self.input_file,smilesColumn=smilesColumn,\n",
      "                                           nameColumn=nameColumn,\n",
      "                                           delimiter=self.delimiter,titleLine=titleLine)\n",
      "\n",
      "            for i,m in enumerate(suppl):\n",
      "                if m is not None:\n",
      "                    self.mols.append(m)\n",
      "                    mol_id = i if self.name_field == None else m.GetProp(self.name_field)\n",
      "                    self.mols_ids.append(mol_id)\n",
      "                else:\n",
      "                    self.molserr.append(i)\n",
      "            nb_mols=len(self.mols)\n",
      "        elif self.file_extension == '.mol2':\n",
      "            print \"Format of the structures file = Mol2\"\n",
      "            molss=[]\n",
      "            with open(self.input_file) as fi:\n",
      "                for mol2 in RetrieveMol2Block(fi):\n",
      "                    rdkMolecule = rdkit.Chem.MolFromMol2Block(mol2)\n",
      "                    molss.append(rdkMolecule)\n",
      "            for i,m in enumerate(molss):\n",
      "                if m is not None:\n",
      "                    self.mols.append(m)\n",
      "                    mol_id = i if self.name_field == None else m.GetProp(self.name_field)\n",
      "                    self.mols_ids.append(mol_id)\n",
      "                else:\n",
      "                    self.molserr.append(i)\n",
      "                    self.mols.append(m)\n",
      "            self.nb_mols=len(self.mols)\n",
      "        else:\n",
      "            if self.verbose:\n",
      "                print \"Format of the structures file = SDF\"\n",
      "            suppl = Chem.SDMolSupplier(self.input_file)\n",
      "            for i,m in enumerate(suppl):\n",
      "                if m is not None:\n",
      "                    self.mols.append(m)\n",
      "                    mol_id = i if self.name_field == None else m.GetProp(self.name_field)\n",
      "                    self.mols_ids.append(mol_id)\n",
      "                else:\n",
      "                    self.molserr.append(i)\n",
      "            self.nbMols=len(self.mols)\n",
      "        \n",
      "        if self.verbose:\n",
      "            if len(self.molserr) !=0:\n",
      "                print \"The following %d molecules (starting at zero) could not be processed:\\n\"%(len(self.molserr))\n",
      "                #for x in self.molserr: print x\n",
      "                print \"NOTE: the indexes of the molecules start at zero. Thus the first molecule is molecule 0.\"\n",
      "                err_file=\"incorrect_molecules_.csv\"\n",
      "                print \"This information has been saved in the following file: %s\\n\"%(err_file)\n",
      "                # Save the information about which molecules could not be processed correctly.\n",
      "                np.savetxt(err_file,self.molserr,fmt=\"%d\")\n",
      "            else:\n",
      "                print \"All molecules in the input file were processed correctly\""
     ],
     "language": "python",
     "metadata": {},
     "outputs": [],
     "prompt_number": 4
    },
    {
     "cell_type": "code",
     "collapsed": false,
     "input": [
      "os.getcwd()"
     ],
     "language": "python",
     "metadata": {},
     "outputs": [
      {
       "metadata": {},
       "output_type": "pyout",
       "prompt_number": 5,
       "text": [
        "'/Users/icortes/Desktop/BioAlerts'"
       ]
      }
     ],
     "prompt_number": 5
    },
    {
     "cell_type": "code",
     "collapsed": false,
     "input": [
      "#a=load_molecules(\"./bioalerts/test.sdf\")\n",
      "a=load_molecules(\"./bioalerts/smiles_tox2.smi\",name_field=\"_Name\")\n",
      "a.read_molecules()\n",
      "print len(a.mols)"
     ],
     "language": "python",
     "metadata": {},
     "outputs": [
      {
       "output_type": "stream",
       "stream": "stdout",
       "text": [
        "Format of the structures file = SMILES\n",
        "The following 6 molecules (starting at zero) could not be processed:\n"
       ]
      },
      {
       "output_type": "stream",
       "stream": "stdout",
       "text": [
        "\n",
        "NOTE: the indexes of the molecules start at zero. Thus the first molecule is molecule 0.\n",
        "This information has been saved in the following file: incorrect_molecules_.csv\n",
        "\n",
        "493\n"
       ]
      }
     ],
     "prompt_number": 116
    },
    {
     "cell_type": "heading",
     "level": 1,
     "metadata": {},
     "source": [
      "Class to get the substructure IDs"
     ]
    },
    {
     "cell_type": "code",
     "collapsed": false,
     "input": [
      "class get_dataset_info:\n",
      "    '''\n",
      "    Crate a dictionary: keys = substructure IDs, value = compound IDs.\n",
      "        Thus, we now for a compound, which substructures it contains\n",
      "    '''\n",
      "\n",
      "    def __init__(self,name_field=None):\n",
      "        self.name_field = name_field\n",
      "        self.nb_substructures = None\n",
      "        self.max_radius = None\n",
      "        self.mols_ids = []\n",
      "        self.substructure_dictionary = {}\n",
      "    \n",
      "    import operator\n",
      "    # We add, but given that the radii are kept in lists, the effect of the operator add is 'append'\n",
      "    def _combine_dicts(self,a, b, op=operator.add):\n",
      "        return dict(a.items() + b.items() + [(k, op(a[k], b[k])) for k in set(b) & set(a)])\n",
      "        \n",
      "    def extract_substructure_information(self,radii,mols):\n",
      "        self.radii = radii\n",
      "        global indexes_mols\n",
      "        substructure_dictionary = []\n",
      "        for i,m in enumerate(mols):\n",
      "            info={}\n",
      "            fp = AllChem.GetMorganFingerprint(m,max(radii),bitInfo=info)\n",
      "            mol_id = i if self.name_field == None else m.GetProp(self.name_field)\n",
      "            self.mols_ids.append(mol_id)\n",
      "            substructure_dictionary.append({k:mol_id for k,v in info.iteritems() if v[0][1] in radii})\n",
      "            #substructure_dictionary = {k:[mol_id] for k,v in info.iteritems() if v[0][1] in radii}\n",
      "            #self.substructure_dictionary = self._combine_dicts(substructure_dictionary,self.substructure_dictionary)\n",
      "        for d in substructure_dictionary:\n",
      "            for k, v in d.iteritems():\n",
      "              l=self.substructure_dictionary.setdefault(k,[])\n",
      "              if v not in l:\n",
      "                l.append(v)\n",
      "        self.nb_substructures = len(self.substructure_dictionary.keys())\n",
      "        self.max_radius = max(radii)"
     ],
     "language": "python",
     "metadata": {},
     "outputs": [],
     "prompt_number": 132
    },
    {
     "cell_type": "code",
     "collapsed": false,
     "input": [
      "d = get_dataset_info(name_field='_Name')"
     ],
     "language": "python",
     "metadata": {},
     "outputs": [],
     "prompt_number": 133
    },
    {
     "cell_type": "code",
     "collapsed": false,
     "input": [
      "d.extract_substructure_information(radii=[0,1,2,3],mols=a.mols)"
     ],
     "language": "python",
     "metadata": {},
     "outputs": [],
     "prompt_number": 134
    },
    {
     "cell_type": "code",
     "collapsed": false,
     "input": [
      "print len(d.substructure_dictionary.keys())"
     ],
     "language": "python",
     "metadata": {},
     "outputs": [
      {
       "output_type": "stream",
       "stream": "stdout",
       "text": [
        "7722\n"
       ]
      }
     ],
     "prompt_number": 135
    },
    {
     "cell_type": "heading",
     "level": 1,
     "metadata": {},
     "source": [
      "Class to calculate the alert for new molecules"
     ]
    },
    {
     "cell_type": "code",
     "collapsed": false,
     "input": [
      "class CalculatePvaluesCategorical:\n",
      "    '''\n",
      "    Calculate the p.values for each substructure in the input molecule\n",
      "    n mols in the dataset\n",
      "    m mols with a given activity label\n",
      "    n' compounds with the substruct\n",
      "    m' compounds from n' with the activity label\n",
      "    '''\n",
      "    def __init__(self,max_radius):\n",
      "        # needs to be the same as the one used to calcualte the dictionary of substructures\n",
      "        self.max_radius = max_radius\n",
      "        columns = ['Compound ID','p_value','Compounds with substr.',\n",
      "                   #'Compounds with substr. and activity',\n",
      "                   'activity label',\n",
      "                   'Substructure','Substructure in Molecule',\n",
      "                   'Comp. with substr. active',\n",
      "                   'Comp. with substr. inactive',]#,'Smiles']\n",
      "        self.output = pd.DataFrame(columns=columns)\n",
      "    \n",
      "    def calculate_p_values(self,\n",
      "                           mols,substructure_dictionary,\n",
      "                           bioactivities,mols_ids,\n",
      "                           threshold_nb_substructures,\n",
      "                           threshold_pvalue,\n",
      "                           threshold_frequency,\n",
      "                           active_label=1,\n",
      "                           inactive_label=0):\n",
      "        \n",
      "        nb_mols = float(len(set([item for sublist in substructure_dictionary.values() for item in sublist])))\n",
      "        nb_active_mols = float(np.sum(bioactivities == active_label))\n",
      "        nb_inactive_mols = float(np.sum(bioactivities == inactive_label))\n",
      "\n",
      "        \n",
      "        if type(mols) != list: mols = [ext.mols[i] for i in np.arange(0,len(mols))]  #[x for x in mols]\n",
      "        for m,mol in enumerate(mols): #np.arange(0,len(mols)):\n",
      "            #mol=mols[m]\n",
      "            info={}\n",
      "            fp = AllChem.GetMorganFingerprint(mol,self.max_radius,bitInfo=info)\n",
      "            from decimal import Decimal\n",
      "            substructures_sub_dict = substructure_dictionary.keys()\n",
      "            \n",
      "            for substructure_id, atom_radius in info.iteritems():\n",
      "                # check is the substructure is in the database\n",
      "                if substructure_id in substructures_sub_dict:\n",
      "                    nb_comp_with_substructure = float(len(substructure_dictionary[substructure_id]))\n",
      "                    active_comp = (bioactivities == active_label)\n",
      "                    comp_with_substructure = np.in1d(np.asarray(mols_ids) , np.asarray(substructure_dictionary[substructure_id]))\n",
      "                    nb_comp_with_substructure_active = np.sum(active_comp * comp_with_substructure)\n",
      "                    inactive_comp = (bioactivities == inactive_label)\n",
      "                    comp_with_substructure = np.in1d(np.asarray(mols_ids) , np.asarray(substructure_dictionary[substructure_id]))\n",
      "                    nb_comp_with_substructure_inactive = np.sum(inactive_comp * comp_with_substructure)\n",
      "                    \n",
      "                                        \n",
      "                    ## ACTIVE \n",
      "                    #########\n",
      "                    #filter threshold of compounds with the substructure\n",
      "                    filter_a = nb_comp_with_substructure > threshold_nb_substructures\n",
      "                    # filter threshold\n",
      "                    filter_b = (float(nb_comp_with_substructure_active) / float(len(comp_with_substructure))) > threshold_frequency\n",
      "                    if filter_a and filter_b:\n",
      "                        p_value = 0 \n",
      "                        for count in np.arange(nb_comp_with_substructure_active,nb_comp_with_substructure):\n",
      "                            numerator = Decimal(sc.math.factorial(float(nb_comp_with_substructure)))\n",
      "                            denominatorA = Decimal(sc.math.factorial(float(count))) * Decimal(sc.math.factorial(float(nb_comp_with_substructure-count)))\n",
      "                            denominatorB = (nb_active_mols/nb_mols)**float(count)\n",
      "                            denominatorC = (1.0 - (nb_active_mols/nb_mols))**(nb_comp_with_substructure - count)\n",
      "                            out = float(numerator/denominatorA) * denominatorB * denominatorC\n",
      "                            p_value += out \n",
      "                        \n",
      "                        if p_value < threshold_pvalue:\n",
      "                            #self.p_values_dictionary[substructure_id] = p_value\n",
      "                    \n",
      "                            # Drawing\n",
      "                            env = Chem.FindAtomEnvironmentOfRadiusN(mol,atom_radius[0][1],atom_radius[0][0])\n",
      "                            amap = {}\n",
      "                            submol=Chem.PathToSubmol(mol,env,atomMap=amap)\n",
      "                            m1 = mol\n",
      "                            m1.GetSubstructMatch(submol)\n",
      "                            #mm = Draw.MolToImage( mol,wedgeBonds=True,kekulize=True,highlightAtoms=amap.keys(),colour='green')\n",
      "                            self.output = self.output.append({'Compound ID' : mols_ids[m],\n",
      "                                                              'Compounds with substr.' : nb_comp_with_substructure,\n",
      "                                                #'Compounds with substr. and activity' : nb_comp_with_substructure_active,\n",
      "                                                'p_value' : p_value,\n",
      "                                                'activity label':active_label,\n",
      "                                                'Substructure in Molecule': m1,\n",
      "                                                'Substructure':submol,\n",
      "                                                'Comp. with substr. active':nb_comp_with_substructure_active,\n",
      "                                                'Comp. with substr. inactive':nb_comp_with_substructure_inactive\n",
      "                                                #'Smiles': Chem.MolToSmiles(mol)\n",
      "                                                },ignore_index=True)\n",
      "                    \n",
      "                    ## INACTIVE \n",
      "                    #########\n",
      "                    #filter threshold of compounds with the substructure\n",
      "                    filter_a = nb_comp_with_substructure > threshold_nb_substructures\n",
      "                    # filter threshold\n",
      "                    filter_b = (float(nb_comp_with_substructure_inactive) / float(len(comp_with_substructure))) > threshold_frequency\n",
      "                    if filter_a and filter_b:\n",
      "                        p_value = 0 \n",
      "                        for count in np.arange(nb_comp_with_substructure_inactive,nb_comp_with_substructure):\n",
      "                            numerator = Decimal(sc.math.factorial(float(nb_comp_with_substructure)))\n",
      "                            denominatorA = Decimal(sc.math.factorial(float(count))) * Decimal(sc.math.factorial(float(nb_comp_with_substructure-count)))\n",
      "                            denominatorB = (nb_inactive_mols/nb_mols)**float(count)\n",
      "                            denominatorC = (1.0 - (nb_inactive_mols/nb_mols))**(nb_comp_with_substructure - count)\n",
      "                            out = float(numerator/denominatorA) * denominatorB * denominatorC\n",
      "                            p_value += out \n",
      "                        \n",
      "                        if p_value < threshold_pvalue:\n",
      "                            #self.p_values_dictionary[substructure_id] = p_value\n",
      "                    \n",
      "                            # Drawing\n",
      "                            env = Chem.FindAtomEnvironmentOfRadiusN(mol,atom_radius[0][1],atom_radius[0][0])\n",
      "                            amap = {}\n",
      "                            submol=Chem.PathToSubmol(mol,env,atomMap=amap)\n",
      "                            m1 = mol\n",
      "                            m1.GetSubstructMatch(submol)\n",
      "                            #mm = Draw.MolToImage(mol,wedgeBonds=True,kekulize=True,highlightAtoms=amap.keys(),colour='red')\n",
      "                            self.output = self.output.append({'Compound ID' : mols_ids[m],\n",
      "                                                'Compounds with substr.' : nb_comp_with_substructure,\n",
      "                                                #'Compounds with substr. and activity' : nb_comp_with_substructure_active,\n",
      "                                                'p_value' : p_value,\n",
      "                                                'activity label':inactive_label,\n",
      "                                                'Substructure in Molecule': m1,\n",
      "                                                'Substructure':submol,\n",
      "                                                'Comp. with substr. active':nb_comp_with_substructure_active,\n",
      "                                                'Comp. with substr. inactive':nb_comp_with_substructure_inactive\n",
      "                                                #'Smiles': Chem.MolToSmiles(mol)\n",
      "                                                },ignore_index=True)\n",
      "                            \n",
      "    def OutputWriter(self,output_filename):\n",
      "        if os.path.exists(output_filename): os.remove(output_filename)\n",
      "        with open(output_filename, 'w') as fo:\n",
      "            fo.write(self.output.to_html())\n",
      "       \n",
      "## change the name for the html writer\n",
      "## include the excel writer"
     ],
     "language": "python",
     "metadata": {},
     "outputs": [],
     "prompt_number": 146
    },
    {
     "cell_type": "code",
     "collapsed": false,
     "input": [
      "bioactivities = np.genfromtxt('./bioalerts/ames2.bio',dtype='int',skip_header=0)\n",
      "arr = np.arange(0,len(bioactivities))\n",
      "mask = np.ones(arr.shape,dtype=bool)\n",
      "mask[a.molserr]=0\n",
      "bioactivities =  bioactivities[mask]\n",
      "print len(bioactivities)\n",
      "print len(a.mols)"
     ],
     "language": "python",
     "metadata": {},
     "outputs": [
      {
       "output_type": "stream",
       "stream": "stdout",
       "text": [
        "493\n",
        "493\n"
       ]
      }
     ],
     "prompt_number": 147
    },
    {
     "cell_type": "code",
     "collapsed": false,
     "input": [
      "ff = CalculatePvaluesCategorical(max_radius=2)\n",
      "ff.calculate_p_values(a.mols[0:40],substructure_dictionary=d.substructure_dictionary,\n",
      "                      bioactivities=bioactivities,mols_ids=d.mols_ids,\n",
      "                      threshold_nb_substructures = 5,\n",
      "                      threshold_pvalue = 0.05,\n",
      "                      threshold_frequency = 0)\n",
      "                      \n",
      "                      "
     ],
     "language": "python",
     "metadata": {},
     "outputs": [],
     "prompt_number": 151
    },
    {
     "cell_type": "code",
     "collapsed": false,
     "input": [
      "ff.output['Substructure in Molecule'][20]"
     ],
     "language": "python",
     "metadata": {},
     "outputs": [
      {
       "metadata": {},
       "output_type": "pyout",
       "png": "[encoded data removed]",
       "prompt_number": 157,
       "text": [
        "<rdkit.Chem.rdchem.Mol at 0x1166ff440>"
       ]
      }
     ],
     "prompt_number": 157
    },
    {
     "cell_type": "code",
     "collapsed": false,
     "input": [
      "#PandasTools.AddMoleculeColumnToFrame(ff.output,smilesCol='Smiles',includeFingerprints=False)"
     ],
     "language": "python",
     "metadata": {},
     "outputs": [],
     "prompt_number": 29
    },
    {
     "cell_type": "code",
     "collapsed": false,
     "input": [
      "#PandasTools.RenderImagesInAllDataFrames()"
     ],
     "language": "python",
     "metadata": {},
     "outputs": [],
     "prompt_number": 21
    },
    {
     "cell_type": "code",
     "collapsed": false,
     "input": [
      "# Test\n",
      "#bb=a.mols[0]\n",
      "#core = Chem.MolFromSmarts('cc(c)c(=O)c(c)c')\n",
      "#match=bb.GetSubstructMatch(core)\n",
      "#bb"
     ],
     "language": "python",
     "metadata": {},
     "outputs": [
      {
       "metadata": {},
       "output_type": "pyout",
       "png": "[encoded data removed]",
       "prompt_number": 15,
       "text": [
        "<rdkit.Chem.rdchem.Mol at 0x1059d6600>"
       ]
      }
     ],
     "prompt_number": 15
    },
    {
     "cell_type": "code",
     "collapsed": false,
     "input": [
      "ff.OutputWriter('test.html')"
     ],
     "language": "python",
     "metadata": {},
     "outputs": [],
     "prompt_number": 23
    },
    {
     "cell_type": "heading",
     "level": 1,
     "metadata": {},
     "source": [
      "External data"
     ]
    },
    {
     "cell_type": "code",
     "collapsed": false,
     "input": [
      "ext=load_molecules(\"./bioalerts/young.sdf\",name_field=\"_Name\")\n",
      "ext.read_molecules()"
     ],
     "language": "python",
     "metadata": {},
     "outputs": [
      {
       "output_type": "stream",
       "stream": "stdout",
       "text": [
        "Format of the structures file = SDF\n",
        "The following 266 molecules (starting at zero) could not be processed:\n"
       ]
      },
      {
       "output_type": "stream",
       "stream": "stdout",
       "text": [
        "\n",
        "NOTE: the indexes of the molecules start at zero. Thus the first molecule is molecule 0.\n",
        "This information has been saved in the following file: incorrect_molecules_.csv\n",
        "\n"
       ]
      }
     ],
     "prompt_number": 158
    },
    {
     "cell_type": "code",
     "collapsed": false,
     "input": [
      "len(ext.mols)"
     ],
     "language": "python",
     "metadata": {},
     "outputs": [
      {
       "metadata": {},
       "output_type": "pyout",
       "prompt_number": 159,
       "text": [
        "1752"
       ]
      }
     ],
     "prompt_number": 159
    },
    {
     "cell_type": "code",
     "collapsed": false,
     "input": [
      "bioactivities_ext = np.genfromtxt('./bioalerts/young.dat',dtype='int',skip_header=1,usecols=1)\n",
      "arr = np.arange(0,len(bioactivities_ext))\n",
      "mask = np.ones(arr.shape,dtype=bool)\n",
      "mask[ext.molserr]=0\n",
      "bioactivities_ext =  bioactivities_ext[mask]\n",
      "print len(bioactivities_ext)\n",
      "print len(ext.mols)"
     ],
     "language": "python",
     "metadata": {},
     "outputs": [
      {
       "output_type": "stream",
       "stream": "stdout",
       "text": [
        "1752\n",
        "1752\n"
       ]
      }
     ],
     "prompt_number": 160
    },
    {
     "cell_type": "code",
     "collapsed": false,
     "input": [
      "fext = CalculatePvaluesCategorical(max_radius=2)\n",
      "fext.calculate_p_values(ext.mols[0:4],substructure_dictionary=d.substructure_dictionary,\n",
      "                      bioactivities=bioactivities,mols_ids=d.mols_ids,active_label=1,\n",
      "                      threshold_nb_substructures = 5,\n",
      "                      threshold_pvalue = 0.05,\n",
      "                      threshold_frequency = 0)"
     ],
     "language": "python",
     "metadata": {},
     "outputs": [],
     "prompt_number": 161
    },
    {
     "cell_type": "code",
     "collapsed": false,
     "input": [
      "#fext.output"
     ],
     "language": "python",
     "metadata": {},
     "outputs": [],
     "prompt_number": 30
    },
    {
     "cell_type": "heading",
     "level": 1,
     "metadata": {},
     "source": [
      "Class to calculate the alert for new molecules: continuous bioactivity values\n"
     ]
    },
    {
     "cell_type": "code",
     "collapsed": false,
     "input": [
      "class CalculatePvaluesContinuous:\n",
      "    '''\n",
      "    Calculate the p.values for each substructure in the input molecule\n",
      "    '''\n",
      "    def __init__(self,radii_ext):\n",
      "        # needs to be the same as the one used to calcualte the dictionary of substructures\n",
      "        self.radii_ext = radii_ext\n",
      "        columns = ['Compound ID',\n",
      "                   'Number compounds',\n",
      "                   'statistic',\n",
      "                   'p_value',\n",
      "                   'Diff. distribution means (w - wo)',\n",
      "                   'Compounds with substr.',\n",
      "                   'Substructure',\n",
      "                   'Substructure in Molecule'\n",
      "                   ]\n",
      "        self.output = pd.DataFrame(columns=columns)\n",
      "    \n",
      "    def calculate_p_values(self,\n",
      "                           mols,\n",
      "                           substructure_dictionary,\n",
      "                           bioactivities,\n",
      "                           mols_ids,\n",
      "                           threshold_nb_substructures,\n",
      "                           threshold_pvalue,\n",
      "                           threshold_ratio_w_wo,\n",
      "                           Bonferroni=True\n",
      "                           ):\n",
      "        self.Bonferroni = Bonferroni\n",
      "        nb_mols = float(len(set([item for sublist in substructure_dictionary.values() for item in sublist])))\n",
      "\n",
      "        \n",
      "        if type(mols) != list: mols = [mols[i] for i in np.arange(0,len(mols))]\n",
      "        nb_substructures_processed=0\n",
      "        for m,mol in enumerate(mols): \n",
      "            info={}\n",
      "            fp = AllChem.GetMorganFingerprint(mol,max(self.radii_ext),bitInfo=info)\n",
      "            substructures_sub_dict = substructure_dictionary.keys()\n",
      "            \n",
      "            for substructure_id, atom_radius in info.iteritems():\n",
      "                nb_substructures_processed += 1\n",
      "                # check is the substructure is in the database\n",
      "                if substructure_id in substructures_sub_dict and atom_radius[0][1] in self.radii_ext:\n",
      "                    nb_comp_with_substructure = float(len(substructure_dictionary[substructure_id]))\n",
      "                    \n",
      "                    #filter threshold of compounds with the substructure\n",
      "                    filter_a = nb_comp_with_substructure > threshold_nb_substructures\n",
      "                    # filter threshold with without\n",
      "                    filter_b = float(nb_comp_with_substructure / nb_mols) > threshold_ratio_w_wo\n",
      "                    if filter_a and filter_b:\n",
      "                        mask = np.in1d(mols_ids,substructure_dictionary[substructure_id])\n",
      "                        bio_substr = bioactivities[mask]\n",
      "                        bio_wo_substr = bioactivities[np.logical_not(mask)]\n",
      "                        # check normality\n",
      "                        if sc.stats.shapiro(bio_substr) > 0.05 and sc.stats.shapiro(bio_wo_substr) > 0.05:\n",
      "                            test = sc.stats.ttest_ind(bio_substr, bio_wo_substr)\n",
      "                            p_value = test[1]\n",
      "                            estatistic = test[0]\n",
      "                        else:\n",
      "                            test = sc.stats.ks_2samp(bio_substr, bio_wo_substr)\n",
      "                            p_value = test[1]\n",
      "                            estatistic = test[0]\n",
      "                        if p_value < threshold_pvalue: \n",
      "                            env = Chem.FindAtomEnvironmentOfRadiusN(mol,atom_radius[0][1],atom_radius[0][0])\n",
      "                            amap = {}\n",
      "                            submol=Chem.PathToSubmol(mol,env,atomMap=amap)\n",
      "                            m1 = mol\n",
      "                            m1.GetSubstructMatch(submol)\n",
      "                            self.output = self.output.append({\n",
      "                                                       'Compound ID' : mols_ids[m],\n",
      "                                                       'Number compounds':nb_mols,\n",
      "                                                       'p_value': p_value,\n",
      "                                                       'statistic': estatistic,\n",
      "                                                       'Compounds with substr.': nb_comp_with_substructure,\n",
      "                                                       'Substructure': submol,\n",
      "                                                       'Substructure in Molecule': m1,\n",
      "                                                       'Diff. distribution means (w - wo)': np.mean(bio_substr) - np.mean(bio_wo_substr),\n",
      "                                                       },ignore_index=True)\n",
      "           \n",
      "        print 'number of substructures processed: ', nb_substructures_processed # this could be changed..\n",
      "        \n",
      "        if self.Bonferroni == True:\n",
      "            self.output['p_value'] = self.output['p_value'] / nb_substructures_processed\n",
      "        \n",
      "    def HTMLOutputWriter(self,output_filename):\n",
      "        if os.path.exists(output_filename): os.remove(output_filename)\n",
      "        with open(output_filename, 'w') as fo:\n",
      "            fo.write(self.output.to_html())\n",
      "            \n",
      "    def XlSXOutputWriter(self,frame, output_filename, molCol=['Substructure',\"Substructure in Molecule\"], size=(300,300)):\n",
      "        \"\"\"\n",
      "        http://nbviewer.ipython.org/github/Team-SKI/snippets/blob/master/IPython/rdkit_hackaton/XLSX%20export.ipynb\n",
      "        Saves pandas DataFrame as a xlsx file with embedded images.\n",
      "        It maps numpy data types to excel cell types:\n",
      "        int, float -> number\n",
      "        datetime -> datetime\n",
      "        object -> string (limited to 32k character - xlsx limitations)\n",
      "        \n",
      "        Due to xlsxwriter limitations (other python xlsx writers have the same problem) \n",
      "        temporary image files have to be written to the hard drive.\n",
      "        \n",
      "        Cells with compound images are a bit larger than images due to excel.\n",
      "        Column width weirdness explained (from xlsxwriter docs):\n",
      "        The width corresponds to the column width value that is specified in Excel. \n",
      "        It is approximately equal to the length of a string in the default font of Calibri 11. \n",
      "        Unfortunately, there is no way to specify \u201cAutoFit\u201d for a column in the Excel file format.\n",
      "        This feature is only available at runtime from within Excel.\n",
      "        \"\"\"\n",
      "        \n",
      "        import xlsxwriter # don't want to make this a RDKit dependency\n",
      "           \n",
      "        cols = list(frame.columns)\n",
      "        for i in molCol:\n",
      "         cols.remove(i)\n",
      "\n",
      "        dataTypes = dict(frame.dtypes)\n",
      "        \n",
      "        workbook = xlsxwriter.Workbook(output_filename) # New workbook\n",
      "        worksheet = workbook.add_worksheet() # New work sheet\n",
      "        worksheet.set_column('A:A', size[0]/6.) # column width\n",
      "        \n",
      "        # Write first row with column names\n",
      "        columns_nb = 0\n",
      "        for x in molCol+cols:\n",
      "            worksheet.write_string(0, columns_nb, x)\n",
      "            columns_nb += 1\n",
      "        \n",
      "        row_nb = 1\n",
      "        tmpfiles = []\n",
      "        for index, row in frame.iterrows():\n",
      "            for j in np.arange(0,len(molCol)):\n",
      "                imfile = \"xlsx_tmp_img_%i_%i.png\" %(row_nb,j)   ### HERE DRAW the substructures!!!!\n",
      "                tmpfiles.append(imfile)\n",
      "                worksheet.set_row(row_nb, height=size[1]) # looks like height is not in px?\n",
      "                worksheet.set_column('A:B', size[0]/6.) # column width\n",
      "                Draw.MolToFile(row[molCol[j]], imfile, size=size,kekulize=False)  # has to save a file on disk in order for xlsxwriter to incorporate the image\n",
      "                worksheet.insert_image(row_nb, j, imfile)\n",
      "        \n",
      "            columns_nb = 2\n",
      "            # Write data in columns and make some basic translation of numpy dtypes to excel data types\n",
      "            for x in cols:\n",
      "                if str(dataTypes[x]) == \"object\":\n",
      "                    worksheet.write_string(row_nb, columns_nb, str(row[x])[:32000]) # string length is limited in xlsx\n",
      "                elif ('float' in str(dataTypes[x])) or ('int' in str(dataTypes[x])):\n",
      "                    if (row[x] != np.nan) or (row[x] != np.inf):\n",
      "                        worksheet.write_number(row_nb, columns_nb, row[x])\n",
      "                elif 'datetime' in str(dataTypes[x]):\n",
      "                    worksheet.write_datetime(row_nb, columns_nb, row[x])\n",
      "                columns_nb += 1\n",
      "            row_nb += 1\n",
      "        \n",
      "        workbook.close()\n",
      "        \n",
      "        for f in tmpfiles:\n",
      "            os.remove(f)\n",
      "            \n"
     ],
     "language": "python",
     "metadata": {},
     "outputs": [],
     "prompt_number": 162
    },
    {
     "cell_type": "code",
     "collapsed": false,
     "input": [
      "ext=load_molecules(\"./BioAlerts/cox.smi\",name_field=None)\n",
      "ext.read_molecules()"
     ],
     "language": "python",
     "metadata": {},
     "outputs": [
      {
       "output_type": "stream",
       "stream": "stdout",
       "text": [
        "Format of the structures file = SMILES\n",
        "The following 131 molecules (starting at zero) could not be processed:\n"
       ]
      },
      {
       "output_type": "stream",
       "stream": "stdout",
       "text": [
        "\n",
        "NOTE: the indexes of the molecules start at zero. Thus the first molecule is molecule 0.\n",
        "This information has been saved in the following file: incorrect_molecules_.csv\n",
        "\n"
       ]
      }
     ],
     "prompt_number": 163
    },
    {
     "cell_type": "code",
     "collapsed": false,
     "input": [
      "os.getcwd()"
     ],
     "language": "python",
     "metadata": {},
     "outputs": [
      {
       "metadata": {},
       "output_type": "pyout",
       "prompt_number": 164,
       "text": [
        "'/Users/icortes/Desktop/BioAlerts'"
       ]
      }
     ],
     "prompt_number": 164
    },
    {
     "cell_type": "code",
     "collapsed": false,
     "input": [
      "cox_bio = genfromtxt('./bioAlerts/cox_bio.bio',skiprows=1)\n",
      "cox_bio.shape\n",
      "arr = np.arange(0,len(cox_bio))\n",
      "mask = np.ones(arr.shape,dtype=bool)\n",
      "mask[ext.molserr]=0\n",
      "cox_bio =  cox_bio[mask]\n",
      "print len(cox_bio)\n",
      "print len(ext.mols)"
     ],
     "language": "python",
     "metadata": {},
     "outputs": [
      {
       "output_type": "stream",
       "stream": "stdout",
       "text": [
        "4806\n",
        "4806\n"
       ]
      }
     ],
     "prompt_number": 165
    },
    {
     "cell_type": "code",
     "collapsed": false,
     "input": [
      "d = get_dataset_info(name_field=None)\n",
      "d.extract_substructure_information(radii=[3],mols=ext.mols)"
     ],
     "language": "python",
     "metadata": {},
     "outputs": [],
     "prompt_number": 166
    },
    {
     "cell_type": "code",
     "collapsed": false,
     "input": [
      "a = CalculatePvaluesContinuous(radii_ext=[3])"
     ],
     "language": "python",
     "metadata": {},
     "outputs": [],
     "prompt_number": 167
    },
    {
     "cell_type": "code",
     "collapsed": false,
     "input": [
      "a.calculate_p_values(mols=[ext.mols[i] for i in np.arange(8,20)],\n",
      "                     substructure_dictionary = d.substructure_dictionary,\n",
      "                     bioactivities = cox_bio,\n",
      "                     mols_ids = d.mols_ids,\n",
      "                     threshold_nb_substructures = 1,\n",
      "                     threshold_pvalue = 0.9,\n",
      "                     threshold_ratio_w_wo=0.02)"
     ],
     "language": "python",
     "metadata": {},
     "outputs": [
      {
       "output_type": "stream",
       "stream": "stdout",
       "text": [
        "number of substructures processed:  557\n"
       ]
      }
     ],
     "prompt_number": 168
    },
    {
     "cell_type": "code",
     "collapsed": false,
     "input": [
      "len(a.output)"
     ],
     "language": "python",
     "metadata": {},
     "outputs": [
      {
       "metadata": {},
       "output_type": "pyout",
       "prompt_number": 169,
       "text": [
        "14"
       ]
      }
     ],
     "prompt_number": 169
    },
    {
     "cell_type": "code",
     "collapsed": false,
     "input": [
      "a.output['Substructure in Molecule'][0]"
     ],
     "language": "python",
     "metadata": {},
     "outputs": [
      {
       "metadata": {},
       "output_type": "pyout",
       "png": "[encoded data removed]",
       "prompt_number": 170,
       "text": [
        "<rdkit.Chem.rdchem.Mol at 0x11699f750>"
       ]
      }
     ],
     "prompt_number": 170
    },
    {
     "cell_type": "code",
     "collapsed": false,
     "input": [
      "a.XlSXOutputWriter(a.output,'demo.xlsx')"
     ],
     "language": "python",
     "metadata": {},
     "outputs": [],
     "prompt_number": 40
    },
    {
     "cell_type": "code",
     "collapsed": false,
     "input": [],
     "language": "python",
     "metadata": {},
     "outputs": []
    },
    {
     "cell_type": "code",
     "collapsed": false,
     "input": [],
     "language": "python",
     "metadata": {},
     "outputs": []
    },
    {
     "cell_type": "code",
     "collapsed": false,
     "input": [],
     "language": "python",
     "metadata": {},
     "outputs": []
    },
    {
     "cell_type": "code",
     "collapsed": false,
     "input": [],
     "language": "python",
     "metadata": {},
     "outputs": []
    },
    {
     "cell_type": "code",
     "collapsed": false,
     "input": [],
     "language": "python",
     "metadata": {},
     "outputs": []
    },
    {
     "cell_type": "code",
     "collapsed": false,
     "input": [],
     "language": "python",
     "metadata": {},
     "outputs": []
    },
    {
     "cell_type": "heading",
     "level": 3,
     "metadata": {},
     "source": [
      "A partir de aqu\u00e9i nada...."
     ]
    },
    {
     "cell_type": "code",
     "collapsed": false,
     "input": [
      "def _SaveXlsxFromFrame(frame, outFile, molCol=['Substructure',\"Substructure in Molecule\"], size=(300,300)):\n",
      "    \"\"\"\n",
      "    http://nbviewer.ipython.org/github/Team-SKI/snippets/blob/master/IPython/rdkit_hackaton/XLSX%20export.ipynb\n",
      "    Saves pandas DataFrame as a xlsx file with embedded images.\n",
      "    It maps numpy data types to excel cell types:\n",
      "    int, float -> number\n",
      "    datetime -> datetime\n",
      "    object -> string (limited to 32k character - xlsx limitations)\n",
      "    \n",
      "    Due to xlsxwriter limitations (other python xlsx writers have the same problem) \n",
      "    temporary image files have to be written to the hard drive.\n",
      "    \n",
      "    Cells with compound images are a bit larger than images due to excel.\n",
      "    Column width weirdness explained (from xlsxwriter docs):\n",
      "    The width corresponds to the column width value that is specified in Excel. \n",
      "    It is approximately equal to the length of a string in the default font of Calibri 11. \n",
      "    Unfortunately, there is no way to specify \u201cAutoFit\u201d for a column in the Excel file format.\n",
      "    This feature is only available at runtime from within Excel.\n",
      "    \"\"\"\n",
      "    \n",
      "    import xlsxwriter # don't want to make this a RDKit dependency\n",
      "       \n",
      "    cols = list(frame.columns)\n",
      "    for i in molCol:\n",
      "     cols.remove(i)\n",
      "    #cols.remove(\"Substructure in Molecule\")\n",
      "    #molCol = molCol[0]\n",
      "    dataTypes = dict(frame.dtypes)\n",
      "\n",
      "    workbook = xlsxwriter.Workbook(outFile) # New workbook\n",
      "    worksheet = workbook.add_worksheet() # New work sheet\n",
      "    worksheet.set_column('A:A', size[0]/6.) # column width\n",
      "    \n",
      "    # Write first row with column names\n",
      "    columns_nb = 0\n",
      "    for x in molCol+cols:\n",
      "        worksheet.write_string(0, columns_nb, x)\n",
      "        columns_nb += 1\n",
      "    \n",
      "    row_nb = 1\n",
      "    tmpfiles = []\n",
      "    for index, row in frame.iterrows():\n",
      "        for j in np.arange(0,len(molCol)):\n",
      "            imfile = \"xlsx_tmp_img_%i_%i.png\" %(row_nb,j)   ### HERE DRAW the substructures!!!!\n",
      "            tmpfiles.append(imfile)\n",
      "            worksheet.set_row(row_nb, height=size[1]) # looks like height is not in px?\n",
      "            worksheet.set_column('A:B', size[0]/6.) # column width\n",
      "            Draw.MolToFile(row[molCol[j]], imfile, size=size,kekulize=False)  # has to save a file on disk in order for xlsxwriter to incorporate the image\n",
      "            worksheet.insert_image(row_nb, j, imfile)\n",
      "\n",
      "        columns_nb = 2\n",
      "        # Write data in columns and make some basic translation of numpy dtypes to excel data types\n",
      "        for x in cols:\n",
      "            if str(dataTypes[x]) == \"object\":\n",
      "                worksheet.write_string(row_nb, columns_nb, str(row[x])[:32000]) # string length is limited in xlsx\n",
      "            elif ('float' in str(dataTypes[x])) or ('int' in str(dataTypes[x])):\n",
      "                if (row[x] != np.nan) or (row[x] != np.inf):\n",
      "                    worksheet.write_number(row_nb, columns_nb, row[x])\n",
      "            elif 'datetime' in str(dataTypes[x]):\n",
      "                worksheet.write_datetime(row_nb, columns_nb, row[x])\n",
      "            columns_nb += 1\n",
      "        row_nb += 1\n",
      "\n",
      "    workbook.close()\n",
      "    \n",
      "    for f in tmpfiles:\n",
      "        os.remove(f)\n",
      "    "
     ],
     "language": "python",
     "metadata": {},
     "outputs": [],
     "prompt_number": 178
    },
    {
     "cell_type": "code",
     "collapsed": false,
     "input": [
      "SaveXlsxFromFrame(a.output, \n",
      "                  outFile='demo.xlsx')#,molCol='Substructure in Molecule')#, \n",
      "                  #size=(600,600))#,\n",
      "                  #molCol='Substructure in Molecule')"
     ],
     "language": "python",
     "metadata": {},
     "outputs": [],
     "prompt_number": 179
    },
    {
     "cell_type": "code",
     "collapsed": false,
     "input": [
      "os.getcwd()"
     ],
     "language": "python",
     "metadata": {},
     "outputs": [
      {
       "metadata": {},
       "output_type": "pyout",
       "prompt_number": 175,
       "text": [
        "'/Users/icortes/Desktop/BioAlerts'"
       ]
      }
     ],
     "prompt_number": 175
    },
    {
     "cell_type": "code",
     "collapsed": false,
     "input": [],
     "language": "python",
     "metadata": {},
     "outputs": []
    }
   ],
   "metadata": {}
  }
 ]
}